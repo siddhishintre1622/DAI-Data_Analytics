{
 "cells": [
  {
   "cell_type": "code",
   "execution_count": 1,
   "id": "b82bd59c-2340-4f86-9866-70650dbfc821",
   "metadata": {},
   "outputs": [],
   "source": [
    "import pandas as pd\n",
    "from scipy import stats\n"
   ]
  },
  {
   "cell_type": "code",
   "execution_count": 2,
   "id": "579b0d50-92e7-4363-a791-ff115b6c944f",
   "metadata": {},
   "outputs": [
    {
     "data": {
      "text/html": [
       "<div>\n",
       "<style scoped>\n",
       "    .dataframe tbody tr th:only-of-type {\n",
       "        vertical-align: middle;\n",
       "    }\n",
       "\n",
       "    .dataframe tbody tr th {\n",
       "        vertical-align: top;\n",
       "    }\n",
       "\n",
       "    .dataframe thead th {\n",
       "        text-align: right;\n",
       "    }\n",
       "</style>\n",
       "<table border=\"1\" class=\"dataframe\">\n",
       "  <thead>\n",
       "    <tr style=\"text-align: right;\">\n",
       "      <th></th>\n",
       "      <th>CustomerID</th>\n",
       "      <th>Genre</th>\n",
       "      <th>Age</th>\n",
       "      <th>Annual Income (k$)</th>\n",
       "      <th>Spending Score (1-100)</th>\n",
       "    </tr>\n",
       "  </thead>\n",
       "  <tbody>\n",
       "    <tr>\n",
       "      <th>0</th>\n",
       "      <td>1</td>\n",
       "      <td>Male</td>\n",
       "      <td>19</td>\n",
       "      <td>15</td>\n",
       "      <td>39</td>\n",
       "    </tr>\n",
       "    <tr>\n",
       "      <th>1</th>\n",
       "      <td>2</td>\n",
       "      <td>Male</td>\n",
       "      <td>21</td>\n",
       "      <td>15</td>\n",
       "      <td>81</td>\n",
       "    </tr>\n",
       "    <tr>\n",
       "      <th>2</th>\n",
       "      <td>3</td>\n",
       "      <td>Female</td>\n",
       "      <td>20</td>\n",
       "      <td>16</td>\n",
       "      <td>6</td>\n",
       "    </tr>\n",
       "    <tr>\n",
       "      <th>3</th>\n",
       "      <td>4</td>\n",
       "      <td>Female</td>\n",
       "      <td>23</td>\n",
       "      <td>16</td>\n",
       "      <td>77</td>\n",
       "    </tr>\n",
       "    <tr>\n",
       "      <th>4</th>\n",
       "      <td>5</td>\n",
       "      <td>Female</td>\n",
       "      <td>31</td>\n",
       "      <td>17</td>\n",
       "      <td>40</td>\n",
       "    </tr>\n",
       "    <tr>\n",
       "      <th>...</th>\n",
       "      <td>...</td>\n",
       "      <td>...</td>\n",
       "      <td>...</td>\n",
       "      <td>...</td>\n",
       "      <td>...</td>\n",
       "    </tr>\n",
       "    <tr>\n",
       "      <th>195</th>\n",
       "      <td>196</td>\n",
       "      <td>Female</td>\n",
       "      <td>35</td>\n",
       "      <td>120</td>\n",
       "      <td>79</td>\n",
       "    </tr>\n",
       "    <tr>\n",
       "      <th>196</th>\n",
       "      <td>197</td>\n",
       "      <td>Female</td>\n",
       "      <td>45</td>\n",
       "      <td>126</td>\n",
       "      <td>28</td>\n",
       "    </tr>\n",
       "    <tr>\n",
       "      <th>197</th>\n",
       "      <td>198</td>\n",
       "      <td>Male</td>\n",
       "      <td>32</td>\n",
       "      <td>126</td>\n",
       "      <td>74</td>\n",
       "    </tr>\n",
       "    <tr>\n",
       "      <th>198</th>\n",
       "      <td>199</td>\n",
       "      <td>Male</td>\n",
       "      <td>32</td>\n",
       "      <td>137</td>\n",
       "      <td>18</td>\n",
       "    </tr>\n",
       "    <tr>\n",
       "      <th>199</th>\n",
       "      <td>200</td>\n",
       "      <td>Male</td>\n",
       "      <td>30</td>\n",
       "      <td>137</td>\n",
       "      <td>83</td>\n",
       "    </tr>\n",
       "  </tbody>\n",
       "</table>\n",
       "<p>200 rows × 5 columns</p>\n",
       "</div>"
      ],
      "text/plain": [
       "     CustomerID   Genre  Age  Annual Income (k$)  Spending Score (1-100)\n",
       "0             1    Male   19                  15                      39\n",
       "1             2    Male   21                  15                      81\n",
       "2             3  Female   20                  16                       6\n",
       "3             4  Female   23                  16                      77\n",
       "4             5  Female   31                  17                      40\n",
       "..          ...     ...  ...                 ...                     ...\n",
       "195         196  Female   35                 120                      79\n",
       "196         197  Female   45                 126                      28\n",
       "197         198    Male   32                 126                      74\n",
       "198         199    Male   32                 137                      18\n",
       "199         200    Male   30                 137                      83\n",
       "\n",
       "[200 rows x 5 columns]"
      ]
     },
     "execution_count": 2,
     "metadata": {},
     "output_type": "execute_result"
    }
   ],
   "source": [
    "data = pd.read_csv('Mall_Customers.csv')\n",
    "data"
   ]
  },
  {
   "cell_type": "code",
   "execution_count": 3,
   "id": "46d17e1f-fa59-4c3e-9c32-0f939e093168",
   "metadata": {},
   "outputs": [],
   "source": [
    "male_spending = data[data['Genre']=='Male']['Spending Score (1-100)']"
   ]
  },
  {
   "cell_type": "code",
   "execution_count": 4,
   "id": "cf8fc29f-6cdb-4bb4-8d28-67de2cd0549d",
   "metadata": {},
   "outputs": [],
   "source": [
    "female_spending = data[data['Genre']=='Female']['Spending Score (1-100)']"
   ]
  },
  {
   "cell_type": "code",
   "execution_count": 5,
   "id": "204d67b5-9c16-45e2-ba3d-06b82885fb53",
   "metadata": {},
   "outputs": [],
   "source": [
    "t_statistics,p_value = stats.ttest_ind(male_spending,female_spending)"
   ]
  },
  {
   "cell_type": "code",
   "execution_count": 6,
   "id": "6df66d29-1ff2-4481-9f8c-2323fcd74a91",
   "metadata": {},
   "outputs": [],
   "source": [
    "n_male = len(male_spending)\n",
    "n_female = len(female_spending)"
   ]
  },
  {
   "cell_type": "code",
   "execution_count": 7,
   "id": "2c535f63-56c3-4257-9a31-253ae0ec67f0",
   "metadata": {},
   "outputs": [],
   "source": [
    "degree_of_freedom = n_male + n_female  - 2"
   ]
  },
  {
   "cell_type": "code",
   "execution_count": 8,
   "id": "39ea9c1b-4bc9-415c-b4ee-0343bf75a78f",
   "metadata": {},
   "outputs": [],
   "source": [
    "alpha = 0.025"
   ]
  },
  {
   "cell_type": "code",
   "execution_count": 9,
   "id": "b95df686-074b-407b-9b4b-7f85cb877ed6",
   "metadata": {},
   "outputs": [],
   "source": [
    "critical_value = stats.t.ppf(1-alpha,degree_of_freedom)"
   ]
  },
  {
   "cell_type": "code",
   "execution_count": 10,
   "id": "39bdb3a0-4f51-46d1-8eaf-8ba9588e8f33",
   "metadata": {},
   "outputs": [
    {
     "name": "stdout",
     "output_type": "stream",
     "text": [
      "T-statics :  -0.8190464150660334\n",
      "P-value :  0.4137446589852174\n",
      "Degree of Freedom :  198\n"
     ]
    }
   ],
   "source": [
    "print(\"T-statics : \",t_statistics)\n",
    "print(\"P-value : \",p_value)\n",
    "print(\"Degree of Freedom : \",degree_of_freedom)"
   ]
  },
  {
   "cell_type": "code",
   "execution_count": 11,
   "id": "3f564e1b-481e-409d-8ecb-08a5a9e7abf2",
   "metadata": {},
   "outputs": [
    {
     "name": "stdout",
     "output_type": "stream",
     "text": [
      "There is no significant  differnce in spending score between male and female groups\n"
     ]
    }
   ],
   "source": [
    "if p_value < alpha:\n",
    "    print(\"There is significant  differnce in spending score between male and female groups\")\n",
    "else:\n",
    "    print(\"There is no significant  differnce in spending score between male and female groups\")"
   ]
  },
  {
   "cell_type": "code",
   "execution_count": 13,
   "id": "9a762149-ab2b-469b-9241-9f34648197c8",
   "metadata": {},
   "outputs": [
    {
     "name": "stdout",
     "output_type": "stream",
     "text": [
      "There is no significant  differnce in spending score between male and female groups\n"
     ]
    }
   ],
   "source": [
    "if abs(t_statistics) > critical_value:\n",
    "    print(\"There is significant  differnce in spending score between male and female groups\")\n",
    "else:\n",
    "    print(\"There is no significant  differnce in spending score between male and female groups\")\n",
    "    "
   ]
  },
  {
   "cell_type": "code",
   "execution_count": null,
   "id": "5d9cfb71-db4b-4f57-9307-358ab7ee3088",
   "metadata": {},
   "outputs": [],
   "source": []
  }
 ],
 "metadata": {
  "kernelspec": {
   "display_name": "Python 3 (ipykernel)",
   "language": "python",
   "name": "python3"
  },
  "language_info": {
   "codemirror_mode": {
    "name": "ipython",
    "version": 3
   },
   "file_extension": ".py",
   "mimetype": "text/x-python",
   "name": "python",
   "nbconvert_exporter": "python",
   "pygments_lexer": "ipython3",
   "version": "3.12.4"
  }
 },
 "nbformat": 4,
 "nbformat_minor": 5
}
