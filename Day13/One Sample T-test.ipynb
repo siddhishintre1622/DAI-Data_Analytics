{
 "cells": [
  {
   "cell_type": "code",
   "execution_count": 3,
   "id": "03936e76-128e-4a32-8292-dd6c1e3e4194",
   "metadata": {},
   "outputs": [],
   "source": [
    "import pandas as pd\n",
    "from scipy import stats"
   ]
  },
  {
   "cell_type": "code",
   "execution_count": 17,
   "id": "50111693-a86e-402e-a943-3eb9f59b5e9c",
   "metadata": {},
   "outputs": [
    {
     "data": {
      "text/plain": [
       "0      19\n",
       "1      21\n",
       "2      20\n",
       "3      23\n",
       "4      31\n",
       "       ..\n",
       "195    35\n",
       "196    45\n",
       "197    32\n",
       "198    32\n",
       "199    30\n",
       "Name: Age, Length: 200, dtype: int64"
      ]
     },
     "execution_count": 17,
     "metadata": {},
     "output_type": "execute_result"
    }
   ],
   "source": [
    "data = pd.read_csv('Mall_Customers.csv')\n",
    "age_data = data['Age']\n",
    "age_data"
   ]
  },
  {
   "cell_type": "code",
   "execution_count": 7,
   "id": "46a03d86-2605-44da-8dab-e9febfd81bd3",
   "metadata": {},
   "outputs": [],
   "source": [
    "pop_avg_age = 40"
   ]
  },
  {
   "cell_type": "code",
   "execution_count": 9,
   "id": "4e1eda28-01fc-4a8b-bab4-4ddf93a102d5",
   "metadata": {},
   "outputs": [],
   "source": [
    "t_statistic, p_value = stats.ttest_1samp(age_data, pop_avg_age)\n",
    "degrees_of_freedom = len(age_data) - 1"
   ]
  },
  {
   "cell_type": "code",
   "execution_count": 11,
   "id": "04b45502-5041-45ab-a8c8-868f2cea1af8",
   "metadata": {},
   "outputs": [
    {
     "name": "stdout",
     "output_type": "stream",
     "text": [
      "T-statistic: -1.1642528048895828\n",
      "P-value: 0.24571546680949305\n",
      "Degrees of freedom: 199\n"
     ]
    }
   ],
   "source": [
    "print(\"T-statistic:\", t_statistic)\n",
    "print(\"P-value:\", p_value)\n",
    "print(\"Degrees of freedom:\", degrees_of_freedom)"
   ]
  },
  {
   "cell_type": "code",
   "execution_count": 12,
   "id": "f4f082c9-0578-4c3a-91e3-f2194e3aa781",
   "metadata": {},
   "outputs": [
    {
     "name": "stdout",
     "output_type": "stream",
     "text": [
      "The null hypothesis (mean age = 40) cannot be rejected.\n"
     ]
    }
   ],
   "source": [
    "#Interpretation\n",
    "alpha = 0.025\n",
    "if p_value <alpha:\n",
    "    print(\"The null hypothesis (mean age =40) is rejected.\")\n",
    "else:\n",
    "    print(\"The null hypothesis (mean age = 40) cannot be rejected.\")"
   ]
  },
  {
   "cell_type": "code",
   "execution_count": 13,
   "id": "ad41196c-362b-4442-8aa1-25468a9aa853",
   "metadata": {},
   "outputs": [
    {
     "name": "stdout",
     "output_type": "stream",
     "text": [
      "Critical value:  1.971956544249395\n"
     ]
    }
   ],
   "source": [
    "critical_value = stats.t.ppf(1- alpha, degrees_of_freedom)\n",
    "print(\"Critical value: \", critical_value)"
   ]
  },
  {
   "cell_type": "code",
   "execution_count": 15,
   "id": "8aaeb0f7-230f-4520-a936-841ba52b6b39",
   "metadata": {},
   "outputs": [
    {
     "name": "stdout",
     "output_type": "stream",
     "text": [
      "The null hypothesis (mean age = 40) cannot be rejected.\n"
     ]
    }
   ],
   "source": [
    "#Two-tailed t-test (Because we are just checking if sample mean = population mean)\n",
    "#So, we need to take absolute value of t-statistic\n",
    "if (abs(t_statistic)< critical_value):\n",
    "    print(\"The null hypothesis (mean age = 40) cannot be rejected.\")\n",
    "else:\n",
    "    print(\"The null hypothesis (mean age = 40) is rejected.\")\n",
    "    "
   ]
  },
  {
   "cell_type": "code",
   "execution_count": null,
   "id": "4a3af309-7e28-45aa-a66e-69527369a670",
   "metadata": {},
   "outputs": [],
   "source": []
  }
 ],
 "metadata": {
  "kernelspec": {
   "display_name": "Python 3 (ipykernel)",
   "language": "python",
   "name": "python3"
  },
  "language_info": {
   "codemirror_mode": {
    "name": "ipython",
    "version": 3
   },
   "file_extension": ".py",
   "mimetype": "text/x-python",
   "name": "python",
   "nbconvert_exporter": "python",
   "pygments_lexer": "ipython3",
   "version": "3.12.4"
  }
 },
 "nbformat": 4,
 "nbformat_minor": 5
}
