{
 "cells": [
  {
   "cell_type": "code",
   "execution_count": 1,
   "id": "5ec50850-f286-450f-ae35-79ba83eadc32",
   "metadata": {},
   "outputs": [],
   "source": [
    "import numpy as np\n"
   ]
  },
  {
   "cell_type": "code",
   "execution_count": 9,
   "id": "688907a8-d5e8-44a6-8281-1923883883c7",
   "metadata": {},
   "outputs": [],
   "source": [
    "#Part 1\n",
    "def roll_dice():\n",
    "    return np.sum(np.random.randint(1,7,2))"
   ]
  },
  {
   "cell_type": "code",
   "execution_count": 10,
   "id": "f0ebe72b-5a48-436c-a0b7-88d75312829f",
   "metadata": {},
   "outputs": [
    {
     "name": "stdout",
     "output_type": "stream",
     "text": [
      "11\n"
     ]
    }
   ],
   "source": [
    "print(roll_dice())"
   ]
  },
  {
   "cell_type": "code",
   "execution_count": 11,
   "id": "d0d536ce-99e2-475d-ae6f-a3c2b3436ccf",
   "metadata": {},
   "outputs": [
    {
     "name": "stdout",
     "output_type": "stream",
     "text": [
      "6\n"
     ]
    }
   ],
   "source": [
    "print(roll_dice())"
   ]
  },
  {
   "cell_type": "raw",
   "id": "21842f67-5c8a-4040-bf2a-a4f30ab447ff",
   "metadata": {},
   "source": [
    "print(roll_dice())"
   ]
  },
  {
   "cell_type": "code",
   "execution_count": 13,
   "id": "ed44bb99-3c8c-4c8b-a956-5f78c74a24fa",
   "metadata": {},
   "outputs": [
    {
     "name": "stdout",
     "output_type": "stream",
     "text": [
      "5\n"
     ]
    }
   ],
   "source": [
    "print(roll_dice())"
   ]
  },
  {
   "cell_type": "raw",
   "id": "75e6fb24-3043-4f1c-a18d-1097b73e43af",
   "metadata": {},
   "source": [
    "#Part 2\n",
    "Someone approches to you and say i will give you 5 dollars if you get 7 and take 1 dollar if you get a number other than 7\n",
    "how do we know what will happen"
   ]
  },
  {
   "cell_type": "code",
   "execution_count": 19,
   "id": "f113d90d-a3b7-4584-8bd2-e2f3000e8b9f",
   "metadata": {},
   "outputs": [],
   "source": [
    "def monte_carlo_simulation(runs = 1000):\n",
    "    result = np.zeros(2)\n",
    "    for i in range(runs):\n",
    "        if roll_dice() == 7:\n",
    "            result[0] += 1\n",
    "        else:\n",
    "            result[1] += 1\n",
    "    return result"
   ]
  },
  {
   "cell_type": "code",
   "execution_count": 20,
   "id": "5d13458a-bb62-437b-b50e-457b32fa804e",
   "metadata": {},
   "outputs": [
    {
     "name": "stdout",
     "output_type": "stream",
     "text": [
      "[147. 853.]\n",
      "[160. 840.]\n",
      "[171. 829.]\n"
     ]
    }
   ],
   "source": [
    "print(monte_carlo_simulation())\n",
    "print(monte_carlo_simulation())\n",
    "print(monte_carlo_simulation())"
   ]
  },
  {
   "cell_type": "raw",
   "id": "47efacd8-a3f5-4078-adeb-eda177ca91ec",
   "metadata": {},
   "source": [
    "#part 3\n",
    "Now do it 1000 times"
   ]
  },
  {
   "cell_type": "code",
   "execution_count": 21,
   "id": "6fc14030-eab4-4cba-abe1-a54229991291",
   "metadata": {},
   "outputs": [],
   "source": [
    "result = np.zeros(1000)"
   ]
  },
  {
   "cell_type": "code",
   "execution_count": 31,
   "id": "1c240b5f-6c70-4ec6-a8ef-ec6bd0893402",
   "metadata": {},
   "outputs": [],
   "source": [
    "for i in range(1000):\n",
    "    result[i] = monte_carlo_simulation()[0]"
   ]
  },
  {
   "cell_type": "code",
   "execution_count": 32,
   "id": "e68247ef-ee7e-48cd-849b-09592eb044a3",
   "metadata": {},
   "outputs": [
    {
     "name": "stdout",
     "output_type": "stream",
     "text": [
      "[177. 184. 164. 172. 188. 173. 173. 178. 178. 182. 168. 170. 164. 181.\n",
      " 178. 163. 182. 157. 168. 158. 172. 159. 162. 166. 164. 162. 146. 166.\n",
      " 174. 168. 199. 149. 158. 161. 173. 164. 148. 163. 154. 159. 170. 143.\n",
      " 189. 163. 171. 158. 157. 177. 179. 164. 176. 137. 188. 179. 164. 172.\n",
      " 164. 157. 159. 180. 183. 174. 146. 166. 142. 173. 194. 177. 160. 162.\n",
      " 156. 181. 153. 159. 163. 158. 178. 158. 164. 165. 193. 168. 174. 166.\n",
      " 170. 163. 183. 165. 159. 152. 168. 179. 157. 158. 179. 187. 180. 160.\n",
      " 175. 160. 164. 168. 155. 178. 194. 155. 169. 154. 183. 163. 174. 142.\n",
      " 175. 172. 178. 196. 165. 168. 156. 166. 171. 146. 155. 164. 171. 189.\n",
      " 154. 181. 148. 150. 155. 170. 155. 172. 165. 185. 150. 188. 157. 136.\n",
      " 161. 176. 162. 173. 169. 186. 182. 180. 182. 176. 172. 188. 157. 176.\n",
      " 160. 150. 173. 153. 178. 160. 165. 168. 160. 162. 161. 168. 162. 151.\n",
      " 151. 179. 166. 178. 147. 165. 165. 164. 157. 140. 154. 177. 168. 151.\n",
      " 177. 156. 162. 154. 163. 189. 176. 173. 169. 178. 163. 167. 147. 175.\n",
      " 143. 180. 160. 184. 158. 172. 159. 154. 152. 181. 192. 169. 195. 158.\n",
      " 159. 157. 166. 152. 166. 149. 171. 173. 176. 156. 189. 180. 139. 170.\n",
      " 163. 171. 161. 167. 150. 197. 152. 162. 163. 139. 172. 170. 163. 164.\n",
      " 171. 168. 165. 174. 167. 178. 160. 158. 176. 145. 169. 147. 152. 150.\n",
      " 156. 167. 156. 191. 164. 142. 181. 167. 175. 185. 158. 169. 152. 174.\n",
      " 159. 159. 163. 167. 157. 181. 146. 166. 171. 173. 147. 162. 162. 162.\n",
      " 157. 161. 190. 157. 147. 171. 169. 166. 161. 159. 171. 163. 170. 176.\n",
      " 164. 162. 146. 178. 156. 193. 162. 164. 162. 179. 156. 161. 167. 154.\n",
      " 166. 158. 156. 154. 155. 172. 153. 153. 146. 177. 164. 143. 181. 186.\n",
      " 162. 165. 178. 180. 175. 172. 149. 186. 173. 174. 156. 165. 168. 163.\n",
      " 166. 164. 178. 181. 156. 162. 165. 144. 158. 156. 142. 181. 158. 167.\n",
      " 163. 178. 180. 182. 174. 155. 164. 168. 161. 171. 152. 138. 182. 177.\n",
      " 162. 164. 175. 183. 185. 169. 173. 164. 153. 168. 170. 179. 168. 177.\n",
      " 157. 181. 173. 157. 162. 156. 158. 155. 153. 177. 171. 159. 168. 156.\n",
      " 171. 164. 143. 174. 172. 143. 188. 167. 168. 173. 143. 147. 182. 187.\n",
      " 153. 174. 174. 167. 155. 161. 135. 182. 174. 155. 155. 155. 167. 157.\n",
      " 167. 157. 167. 169. 172. 164. 172. 177. 197. 146. 170. 155. 165. 185.\n",
      " 149. 165. 154. 160. 144. 158. 164. 160. 179. 192. 171. 151. 152. 175.\n",
      " 173. 176. 159. 160. 163. 166. 166. 154. 184. 156. 167. 160. 149. 155.\n",
      " 161. 152. 162. 174. 158. 138. 154. 205. 170. 182. 169. 176. 165. 167.\n",
      " 169. 149. 160. 175. 159. 173. 151. 176. 159. 155. 165. 154. 169. 148.\n",
      " 175. 173. 165. 157. 153. 174. 162. 160. 175. 186. 187. 154. 185. 145.\n",
      " 188. 161. 168. 169. 173. 156. 173. 165. 174. 189. 160. 188. 165. 190.\n",
      " 164. 177. 161. 174. 186. 167. 161. 180. 181. 163. 169. 165. 163. 178.\n",
      " 175. 157. 159. 160. 162. 165. 171. 146. 155. 168. 157. 161. 164. 178.\n",
      " 188. 143. 161. 168. 185. 158. 150. 183. 172. 168. 155. 162. 161. 177.\n",
      " 175. 162. 163. 161. 175. 175. 167. 158. 166. 188. 188. 171. 191. 176.\n",
      " 160. 157. 179. 167. 160. 152. 165. 152. 156. 154. 159. 169. 161. 151.\n",
      " 184. 168. 169. 152. 154. 150. 162. 148. 146. 174. 182. 157. 182. 169.\n",
      " 149. 154. 167. 172. 175. 179. 189. 173. 162. 176. 177. 169. 163. 175.\n",
      " 176. 167. 162. 170. 148. 161. 173. 184. 186. 154. 141. 180. 164. 170.\n",
      " 162. 169. 185. 170. 181. 178. 161. 179. 168. 157. 173. 174. 178. 159.\n",
      " 155. 162. 185. 166. 164. 174. 167. 169. 169. 166. 152. 182. 161. 156.\n",
      " 178. 169. 168. 178. 156. 156. 172. 169. 171. 157. 167. 174. 196. 152.\n",
      " 179. 153. 164. 155. 172. 157. 159. 156. 162. 169. 144. 167. 156. 160.\n",
      " 169. 155. 176. 179. 170. 182. 165. 149. 176. 179. 178. 165. 184. 168.\n",
      " 187. 157. 166. 145. 148. 144. 173. 192. 143. 146. 176. 176. 177. 160.\n",
      " 157. 168. 155. 163. 167. 161. 157. 137. 182. 187. 154. 155. 145. 191.\n",
      " 155. 164. 170. 174. 179. 178. 164. 161. 178. 153. 183. 194. 179. 186.\n",
      " 190. 179. 166. 167. 170. 173. 162. 173. 158. 200. 173. 189. 161. 188.\n",
      " 164. 175. 189. 154. 169. 155. 151. 176. 163. 166. 174. 154. 163. 164.\n",
      " 179. 156. 149. 190. 191. 185. 167. 151. 153. 169. 169. 174. 153. 175.\n",
      " 196. 168. 158. 158. 155. 159. 158. 167. 172. 179. 149. 150. 152. 176.\n",
      " 172. 158. 184. 162. 170. 140. 153. 172. 183. 166. 188. 171. 166. 162.\n",
      " 162. 169. 171. 154. 159. 183. 168. 166. 175. 169. 176. 153. 157. 166.\n",
      " 182. 187. 142. 170. 164. 150. 164. 171. 160. 154. 159. 144. 148. 159.\n",
      " 168. 172. 145. 178. 171. 167. 154. 187. 172. 167. 179. 169. 174. 170.\n",
      " 165. 159. 165. 157. 174. 180. 156. 162. 165. 156. 169. 178. 165. 158.\n",
      " 158. 184. 149. 165. 172. 147. 136. 175. 174. 157. 178. 168. 157. 181.\n",
      " 170. 189. 177. 166. 167. 157. 185. 176. 155. 176. 148. 166. 161. 159.\n",
      " 165. 162. 160. 177. 171. 148. 166. 157. 170. 184. 171. 164. 156. 147.\n",
      " 167. 157. 171. 175. 159. 185. 176. 152. 166. 161. 165. 155. 180. 170.\n",
      " 181. 178. 158. 163. 158. 172. 180. 170. 159. 157. 155. 168. 161. 172.\n",
      " 150. 164. 165. 174. 164. 158. 177. 181. 156. 183. 188. 163. 172. 162.\n",
      " 164. 176. 164. 159. 161. 187. 166. 147. 185. 169. 170. 167. 182. 187.\n",
      " 157. 170. 186. 170. 154. 165. 180. 156. 166. 171. 163. 158. 184. 175.\n",
      " 151. 163. 148. 152. 145. 162. 177. 152. 144. 198. 153. 163. 175. 163.\n",
      " 160. 182. 157. 173. 156. 190.]\n"
     ]
    }
   ],
   "source": [
    "print(result)"
   ]
  },
  {
   "cell_type": "code",
   "execution_count": 33,
   "id": "b35923f9-624d-44a8-8d2d-bfeae644965a",
   "metadata": {},
   "outputs": [],
   "source": [
    "import matplotlib.pyplot as plt"
   ]
  },
  {
   "cell_type": "code",
   "execution_count": 34,
   "id": "e0110835-c7c4-4a3f-86e0-4eaa1af7b0b4",
   "metadata": {},
   "outputs": [
    {
     "data": {
      "text/plain": [
       "(array([  9.,  22.,  35.,  63., 146., 115., 162., 140., 101.,  93.,  56.,\n",
       "         36.,  13.,   8.,   1.]),\n",
       " array([135.        , 139.66666667, 144.33333333, 149.        ,\n",
       "        153.66666667, 158.33333333, 163.        , 167.66666667,\n",
       "        172.33333333, 177.        , 181.66666667, 186.33333333,\n",
       "        191.        , 195.66666667, 200.33333333, 205.        ]),\n",
       " <BarContainer object of 15 artists>)"
      ]
     },
     "execution_count": 34,
     "metadata": {},
     "output_type": "execute_result"
    },
    {
     "data": {
      "image/png": "[encoded data removed]",
      "text/plain": [
       "<Figure size 640x480 with 1 Axes>"
      ]
     },
     "metadata": {},
     "output_type": "display_data"
    }
   ],
   "source": [
    "fig,ax = plt.subplots()\n",
    "ax.hist(result,bins=15)"
   ]
  },
  {
   "cell_type": "code",
   "execution_count": 35,
   "id": "c1573910-9c38-434b-b2ee-18390674613a",
   "metadata": {},
   "outputs": [
    {
     "data": {
      "text/plain": [
       "166.415"
      ]
     },
     "execution_count": 35,
     "metadata": {},
     "output_type": "execute_result"
    }
   ],
   "source": [
    "result.mean()"
   ]
  },
  {
   "cell_type": "code",
   "execution_count": 36,
   "id": "6baab36e-0c76-45bf-97a1-ea6c72b4119d",
   "metadata": {},
   "outputs": [
    {
     "data": {
      "text/plain": [
       "832.0749999999999"
      ]
     },
     "execution_count": 36,
     "metadata": {},
     "output_type": "execute_result"
    }
   ],
   "source": [
    "result.mean()*5"
   ]
  },
  {
   "cell_type": "code",
   "execution_count": 37,
   "id": "52c46ffa-bfad-472e-9f4b-6ec352f04226",
   "metadata": {},
   "outputs": [
    {
     "data": {
      "text/plain": [
       "790.4712499999999"
      ]
     },
     "execution_count": 37,
     "metadata": {},
     "output_type": "execute_result"
    }
   ],
   "source": [
    "result.mean()*4.75"
   ]
  },
  {
   "cell_type": "code",
   "execution_count": 38,
   "id": "aca6adb4-9ab5-4f17-aad0-c69f47ebc039",
   "metadata": {},
   "outputs": [
    {
     "data": {
      "text/plain": [
       "833.585"
      ]
     },
     "execution_count": 38,
     "metadata": {},
     "output_type": "execute_result"
    }
   ],
   "source": [
    "1000 - result.mean()"
   ]
  },
  {
   "cell_type": "code",
   "execution_count": 39,
   "id": "807f95da-4213-4bf3-8ac3-5ca89c14806f",
   "metadata": {},
   "outputs": [
    {
     "data": {
      "text/plain": [
       "0.16641499999999998"
      ]
     },
     "execution_count": 39,
     "metadata": {},
     "output_type": "execute_result"
    }
   ],
   "source": [
    "result.mean()/1000"
   ]
  },
  {
   "cell_type": "code",
   "execution_count": null,
   "id": "1802de99-8e9d-415a-af95-965a6beb0c49",
   "metadata": {},
   "outputs": [],
   "source": []
  },
  {
   "cell_type": "code",
   "execution_count": null,
   "id": "086773c8-31d2-45dd-bfb7-c16e6d0fbf91",
   "metadata": {},
   "outputs": [],
   "source": []
  }
 ],
 "metadata": {
  "kernelspec": {
   "display_name": "Python 3 (ipykernel)",
   "language": "python",
   "name": "python3"
  },
  "language_info": {
   "codemirror_mode": {
    "name": "ipython",
    "version": 3
   },
   "file_extension": ".py",
   "mimetype": "text/x-python",
   "name": "python",
   "nbconvert_exporter": "python",
   "pygments_lexer": "ipython3",
   "version": "3.12.4"
  }
 },
 "nbformat": 4,
 "nbformat_minor": 5
}
