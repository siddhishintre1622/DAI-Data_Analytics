{
 "cells": [
  {
   "cell_type": "code",
   "execution_count": 66,
   "id": "f441af61-ecff-4075-85ba-1050f08e151b",
   "metadata": {},
   "outputs": [],
   "source": [
    "import pandas as pd\n",
    "import numpy as np\n",
    "import matplotlib.pyplot as plt\n",
    "import scipy.stats as stats"
   ]
  },
  {
   "cell_type": "code",
   "execution_count": 67,
   "id": "e33f5ba3-0e01-4102-ad0a-e0df23925105",
   "metadata": {},
   "outputs": [],
   "source": [
    "data = pd.read_csv('tips.csv')"
   ]
  },
  {
   "cell_type": "code",
   "execution_count": 68,
   "id": "4810bb2b-ec71-40a6-8c40-606b80d0759d",
   "metadata": {},
   "outputs": [
    {
     "data": {
      "text/html": [
       "<div>\n",
       "<style scoped>\n",
       "    .dataframe tbody tr th:only-of-type {\n",
       "        vertical-align: middle;\n",
       "    }\n",
       "\n",
       "    .dataframe tbody tr th {\n",
       "        vertical-align: top;\n",
       "    }\n",
       "\n",
       "    .dataframe thead th {\n",
       "        text-align: right;\n",
       "    }\n",
       "</style>\n",
       "<table border=\"1\" class=\"dataframe\">\n",
       "  <thead>\n",
       "    <tr style=\"text-align: right;\">\n",
       "      <th></th>\n",
       "      <th>total_bill</th>\n",
       "      <th>tip</th>\n",
       "      <th>gender</th>\n",
       "      <th>smoker</th>\n",
       "      <th>day</th>\n",
       "      <th>time</th>\n",
       "      <th>size</th>\n",
       "      <th>price_per_person</th>\n",
       "      <th>Payer Name</th>\n",
       "      <th>CC Number</th>\n",
       "      <th>Payment ID</th>\n",
       "    </tr>\n",
       "  </thead>\n",
       "  <tbody>\n",
       "    <tr>\n",
       "      <th>0</th>\n",
       "      <td>16.99</td>\n",
       "      <td>1.01</td>\n",
       "      <td>Female</td>\n",
       "      <td>No</td>\n",
       "      <td>Sun</td>\n",
       "      <td>Dinner</td>\n",
       "      <td>2</td>\n",
       "      <td>8.49</td>\n",
       "      <td>Christy Cunningham</td>\n",
       "      <td>3.560330e+15</td>\n",
       "      <td>Sun2959</td>\n",
       "    </tr>\n",
       "    <tr>\n",
       "      <th>1</th>\n",
       "      <td>10.34</td>\n",
       "      <td>1.66</td>\n",
       "      <td>Male</td>\n",
       "      <td>No</td>\n",
       "      <td>Sun</td>\n",
       "      <td>Dinner</td>\n",
       "      <td>3</td>\n",
       "      <td>3.45</td>\n",
       "      <td>Douglas Tucker</td>\n",
       "      <td>4.478070e+15</td>\n",
       "      <td>Sun4608</td>\n",
       "    </tr>\n",
       "    <tr>\n",
       "      <th>2</th>\n",
       "      <td>21.01</td>\n",
       "      <td>3.50</td>\n",
       "      <td>Male</td>\n",
       "      <td>No</td>\n",
       "      <td>Sun</td>\n",
       "      <td>Dinner</td>\n",
       "      <td>3</td>\n",
       "      <td>7.00</td>\n",
       "      <td>Travis Walters</td>\n",
       "      <td>6.011810e+15</td>\n",
       "      <td>Sun4458</td>\n",
       "    </tr>\n",
       "    <tr>\n",
       "      <th>3</th>\n",
       "      <td>23.68</td>\n",
       "      <td>3.31</td>\n",
       "      <td>Male</td>\n",
       "      <td>No</td>\n",
       "      <td>Sun</td>\n",
       "      <td>Dinner</td>\n",
       "      <td>2</td>\n",
       "      <td>11.84</td>\n",
       "      <td>Nathaniel Harris</td>\n",
       "      <td>4.676140e+15</td>\n",
       "      <td>Sun5260</td>\n",
       "    </tr>\n",
       "    <tr>\n",
       "      <th>4</th>\n",
       "      <td>24.59</td>\n",
       "      <td>3.61</td>\n",
       "      <td>Female</td>\n",
       "      <td>No</td>\n",
       "      <td>Sun</td>\n",
       "      <td>Dinner</td>\n",
       "      <td>4</td>\n",
       "      <td>6.15</td>\n",
       "      <td>Tonya Carter</td>\n",
       "      <td>4.832730e+15</td>\n",
       "      <td>Sun2251</td>\n",
       "    </tr>\n",
       "    <tr>\n",
       "      <th>...</th>\n",
       "      <td>...</td>\n",
       "      <td>...</td>\n",
       "      <td>...</td>\n",
       "      <td>...</td>\n",
       "      <td>...</td>\n",
       "      <td>...</td>\n",
       "      <td>...</td>\n",
       "      <td>...</td>\n",
       "      <td>...</td>\n",
       "      <td>...</td>\n",
       "      <td>...</td>\n",
       "    </tr>\n",
       "    <tr>\n",
       "      <th>239</th>\n",
       "      <td>29.03</td>\n",
       "      <td>5.92</td>\n",
       "      <td>Male</td>\n",
       "      <td>No</td>\n",
       "      <td>Sat</td>\n",
       "      <td>Dinner</td>\n",
       "      <td>3</td>\n",
       "      <td>9.68</td>\n",
       "      <td>Michael Avila</td>\n",
       "      <td>5.296070e+15</td>\n",
       "      <td>Sat2657</td>\n",
       "    </tr>\n",
       "    <tr>\n",
       "      <th>240</th>\n",
       "      <td>27.18</td>\n",
       "      <td>2.00</td>\n",
       "      <td>Female</td>\n",
       "      <td>Yes</td>\n",
       "      <td>Sat</td>\n",
       "      <td>Dinner</td>\n",
       "      <td>2</td>\n",
       "      <td>13.59</td>\n",
       "      <td>Monica Sanders</td>\n",
       "      <td>3.506810e+15</td>\n",
       "      <td>Sat1766</td>\n",
       "    </tr>\n",
       "    <tr>\n",
       "      <th>241</th>\n",
       "      <td>22.67</td>\n",
       "      <td>2.00</td>\n",
       "      <td>Male</td>\n",
       "      <td>Yes</td>\n",
       "      <td>Sat</td>\n",
       "      <td>Dinner</td>\n",
       "      <td>2</td>\n",
       "      <td>11.34</td>\n",
       "      <td>Keith Wong</td>\n",
       "      <td>6.011890e+15</td>\n",
       "      <td>Sat3880</td>\n",
       "    </tr>\n",
       "    <tr>\n",
       "      <th>242</th>\n",
       "      <td>17.82</td>\n",
       "      <td>1.75</td>\n",
       "      <td>Male</td>\n",
       "      <td>No</td>\n",
       "      <td>Sat</td>\n",
       "      <td>Dinner</td>\n",
       "      <td>2</td>\n",
       "      <td>8.91</td>\n",
       "      <td>Dennis Dixon</td>\n",
       "      <td>4.375220e+12</td>\n",
       "      <td>Sat17</td>\n",
       "    </tr>\n",
       "    <tr>\n",
       "      <th>243</th>\n",
       "      <td>18.78</td>\n",
       "      <td>3.00</td>\n",
       "      <td>Female</td>\n",
       "      <td>No</td>\n",
       "      <td>Thur</td>\n",
       "      <td>Dinner</td>\n",
       "      <td>2</td>\n",
       "      <td>9.39</td>\n",
       "      <td>Michelle Hardin</td>\n",
       "      <td>3.511450e+15</td>\n",
       "      <td>Thur672</td>\n",
       "    </tr>\n",
       "  </tbody>\n",
       "</table>\n",
       "<p>244 rows × 11 columns</p>\n",
       "</div>"
      ],
      "text/plain": [
       "     total_bill   tip  gender smoker   day    time  size  price_per_person  \\\n",
       "0         16.99  1.01  Female     No   Sun  Dinner     2              8.49   \n",
       "1         10.34  1.66    Male     No   Sun  Dinner     3              3.45   \n",
       "2         21.01  3.50    Male     No   Sun  Dinner     3              7.00   \n",
       "3         23.68  3.31    Male     No   Sun  Dinner     2             11.84   \n",
       "4         24.59  3.61  Female     No   Sun  Dinner     4              6.15   \n",
       "..          ...   ...     ...    ...   ...     ...   ...               ...   \n",
       "239       29.03  5.92    Male     No   Sat  Dinner     3              9.68   \n",
       "240       27.18  2.00  Female    Yes   Sat  Dinner     2             13.59   \n",
       "241       22.67  2.00    Male    Yes   Sat  Dinner     2             11.34   \n",
       "242       17.82  1.75    Male     No   Sat  Dinner     2              8.91   \n",
       "243       18.78  3.00  Female     No  Thur  Dinner     2              9.39   \n",
       "\n",
       "             Payer Name     CC Number Payment ID  \n",
       "0    Christy Cunningham  3.560330e+15    Sun2959  \n",
       "1        Douglas Tucker  4.478070e+15    Sun4608  \n",
       "2        Travis Walters  6.011810e+15    Sun4458  \n",
       "3      Nathaniel Harris  4.676140e+15    Sun5260  \n",
       "4          Tonya Carter  4.832730e+15    Sun2251  \n",
       "..                  ...           ...        ...  \n",
       "239       Michael Avila  5.296070e+15    Sat2657  \n",
       "240      Monica Sanders  3.506810e+15    Sat1766  \n",
       "241          Keith Wong  6.011890e+15    Sat3880  \n",
       "242        Dennis Dixon  4.375220e+12      Sat17  \n",
       "243     Michelle Hardin  3.511450e+15    Thur672  \n",
       "\n",
       "[244 rows x 11 columns]"
      ]
     },
     "execution_count": 68,
     "metadata": {},
     "output_type": "execute_result"
    }
   ],
   "source": [
    "data"
   ]
  },
  {
   "cell_type": "code",
   "execution_count": 69,
   "id": "aba4ab6f-87f3-4853-a569-e8c958bf4443",
   "metadata": {},
   "outputs": [],
   "source": [
    "total_bill_series = data['total_bill']"
   ]
  },
  {
   "cell_type": "code",
   "execution_count": 70,
   "id": "f11f2df6-0b2a-42b3-92ae-a7625d0e220f",
   "metadata": {},
   "outputs": [
    {
     "data": {
      "text/plain": [
       "0      16.99\n",
       "1      10.34\n",
       "2      21.01\n",
       "3      23.68\n",
       "4      24.59\n",
       "       ...  \n",
       "239    29.03\n",
       "240    27.18\n",
       "241    22.67\n",
       "242    17.82\n",
       "243    18.78\n",
       "Name: total_bill, Length: 244, dtype: float64"
      ]
     },
     "execution_count": 70,
     "metadata": {},
     "output_type": "execute_result"
    }
   ],
   "source": [
    "total_bill_series "
   ]
  },
  {
   "cell_type": "code",
   "execution_count": 71,
   "id": "2deba11a-c1c6-4d1a-a60b-903651c800f8",
   "metadata": {},
   "outputs": [],
   "source": [
    "mu, std = total_bill_series .mean(),total_bill_series .std()"
   ]
  },
  {
   "cell_type": "code",
   "execution_count": 72,
   "id": "d0ffffb8-6464-4a34-b5e3-7a6b32f508e2",
   "metadata": {},
   "outputs": [
    {
     "data": {
      "text/plain": [
       "19.78594262295082"
      ]
     },
     "execution_count": 72,
     "metadata": {},
     "output_type": "execute_result"
    }
   ],
   "source": [
    "mu"
   ]
  },
  {
   "cell_type": "code",
   "execution_count": 73,
   "id": "86ae76d9-1b8c-4036-8727-c4611bfcf5b5",
   "metadata": {},
   "outputs": [
    {
     "data": {
      "text/plain": [
       "8.902411954856856"
      ]
     },
     "execution_count": 73,
     "metadata": {},
     "output_type": "execute_result"
    }
   ],
   "source": [
    "std"
   ]
  },
  {
   "cell_type": "code",
   "execution_count": 74,
   "id": "45b7505a-3780-46de-b42d-304444db52c6",
   "metadata": {},
   "outputs": [],
   "source": [
    "z_score = (total_bill_series -mu)/std"
   ]
  },
  {
   "cell_type": "code",
   "execution_count": 75,
   "id": "fdab7920-e9d0-4577-9078-fcea3c494eaf",
   "metadata": {},
   "outputs": [
    {
     "data": {
      "text/plain": [
       "0     -0.314066\n",
       "1     -1.061054\n",
       "2      0.137497\n",
       "3      0.437416\n",
       "4      0.539635\n",
       "         ...   \n",
       "239    1.038377\n",
       "240    0.830568\n",
       "241    0.323964\n",
       "242   -0.220833\n",
       "243   -0.112997\n",
       "Name: total_bill, Length: 244, dtype: float64"
      ]
     },
     "execution_count": 75,
     "metadata": {},
     "output_type": "execute_result"
    }
   ],
   "source": [
    "z_score"
   ]
  },
  {
   "cell_type": "code",
   "execution_count": 83,
   "id": "913aa992-1ecf-4707-be58-d7f50fec0552",
   "metadata": {},
   "outputs": [
    {
     "data": {
      "text/plain": [
       "(array([ 1.,  6., 13., 29., 31., 37., 28., 23., 18., 13., 10.,  9.,  5.,\n",
       "         7.,  3.,  4.,  1.,  2.,  3.,  1.]),\n",
       " array([ 3.07 ,  5.457,  7.844, 10.231, 12.618, 15.005, 17.392, 19.779,\n",
       "        22.166, 24.553, 26.94 , 29.327, 31.714, 34.101, 36.488, 38.875,\n",
       "        41.262, 43.649, 46.036, 48.423, 50.81 ]),\n",
       " <BarContainer object of 20 artists>)"
      ]
     },
     "execution_count": 83,
     "metadata": {},
     "output_type": "execute_result"
    },
    {
     "data": {
      "image/png": "[encoded data removed]",
      "text/plain": [
       "<Figure size 1200x600 with 1 Axes>"
      ]
     },
     "metadata": {},
     "output_type": "display_data"
    }
   ],
   "source": [
    "plt.figure(figsize=(12,6))\n",
    "plt.subplot(1,2,1)\n",
    "plt.hist(total_bill_series , bins=20, color='b',edgecolor='black')"
   ]
  },
  {
   "cell_type": "code",
   "execution_count": 27,
   "id": "9c125777-4fa7-49d7-8df1-f3eae3ad1bd4",
   "metadata": {},
   "outputs": [],
   "source": [
    "#NORMAL DISTRIBUTION\n",
    "x = np.linspace(total_bill_series.min(),total_bill_series.max(),100)\n",
    "p =stats.norm.pdf(x,mu,std)"
   ]
  },
  {
   "cell_type": "code",
   "execution_count": 87,
   "id": "1701818f-0c70-4e98-97b5-6fb700f5cbe2",
   "metadata": {},
   "outputs": [
    {
     "data": {
      "image/png": "[encoded data removed]",
      "text/plain": [
       "<Figure size 640x480 with 1 Axes>"
      ]
     },
     "metadata": {},
     "output_type": "display_data"
    }
   ],
   "source": [
    "plt.plot(x,p,'k',linewidth=3)\n",
    "title = \"Fit result : mu = %.2f, std=%.2f\"% (mu,std)\n",
    "plt.title(title)\n",
    "plt.xlabel(\"Total Bill\")\n",
    "plt.ylabel(\"Density\")\n",
    "plt.grid(True)"
   ]
  },
  {
   "cell_type": "code",
   "execution_count": 38,
   "id": "4aea7dbe-e779-4312-8f1c-0ac4913141a5",
   "metadata": {},
   "outputs": [
    {
     "data": {
      "text/plain": [
       "((array([-2.7660794 , -2.46319801, -2.29114787, -2.16825434, -2.07137443,\n",
       "         -1.99075074, -1.9213089 , -1.86005848, -1.80508277, -1.75507658,\n",
       "         -1.70910939, -1.66649348, -1.62670558, -1.58933792, -1.55406631,\n",
       "         -1.52062855, -1.48880944, -1.45843008, -1.42934008, -1.40141172,\n",
       "         -1.37453559, -1.34861722, -1.32357442, -1.29933525, -1.27583633,\n",
       "         -1.25302156, -1.230841  , -1.20924999, -1.18820845, -1.16768023,\n",
       "         -1.14763264, -1.12803597, -1.10886319, -1.09008958, -1.07169252,\n",
       "         -1.0536512 , -1.03594646, -1.01856064, -1.00147737, -0.98468148,\n",
       "         -0.96815887, -0.95189643, -0.93588192, -0.9201039 , -0.90455168,\n",
       "         -0.88921522, -0.87408512, -0.85915251, -0.84440907, -0.82984693,\n",
       "         -0.81545867, -0.80123728, -0.78717613, -0.77326892, -0.75950968,\n",
       "         -0.74589275, -0.73241275, -0.71906453, -0.70584322, -0.69274417,\n",
       "         -0.67976291, -0.66689521, -0.65413699, -0.64148438, -0.62893363,\n",
       "         -0.61648119, -0.60412361, -0.59185761, -0.57968002, -0.56758779,\n",
       "         -0.555578  , -0.54364781, -0.5317945 , -0.52001544, -0.5083081 ,\n",
       "         -0.49667002, -0.48509883, -0.47359222, -0.46214799, -0.45076396,\n",
       "         -0.43943806, -0.42816824, -0.41695255, -0.40578907, -0.39467593,\n",
       "         -0.38361132, -0.37259348, -0.36162069, -0.35069126, -0.33980357,\n",
       "         -0.32895601, -0.31814702, -0.30737508, -0.29663869, -0.28593638,\n",
       "         -0.27526672, -0.26462831, -0.25401977, -0.24343974, -0.23288689,\n",
       "         -0.22235991, -0.21185751, -0.20137843, -0.19092142, -0.18048525,\n",
       "         -0.1700687 , -0.15967057, -0.14928967, -0.13892484, -0.12857491,\n",
       "         -0.11823873, -0.10791517, -0.09760311, -0.08730141, -0.07700896,\n",
       "         -0.06672467, -0.05644743, -0.04617615, -0.03590974, -0.02564712,\n",
       "         -0.01538719, -0.00512888,  0.00512888,  0.01538719,  0.02564712,\n",
       "          0.03590974,  0.04617615,  0.05644743,  0.06672467,  0.07700896,\n",
       "          0.08730141,  0.09760311,  0.10791517,  0.11823873,  0.12857491,\n",
       "          0.13892484,  0.14928967,  0.15967057,  0.1700687 ,  0.18048525,\n",
       "          0.19092142,  0.20137843,  0.21185751,  0.22235991,  0.23288689,\n",
       "          0.24343974,  0.25401977,  0.26462831,  0.27526672,  0.28593638,\n",
       "          0.29663869,  0.30737508,  0.31814702,  0.32895601,  0.33980357,\n",
       "          0.35069126,  0.36162069,  0.37259348,  0.38361132,  0.39467593,\n",
       "          0.40578907,  0.41695255,  0.42816824,  0.43943806,  0.45076396,\n",
       "          0.46214799,  0.47359222,  0.48509883,  0.49667002,  0.5083081 ,\n",
       "          0.52001544,  0.5317945 ,  0.54364781,  0.555578  ,  0.56758779,\n",
       "          0.57968002,  0.59185761,  0.60412361,  0.61648119,  0.62893363,\n",
       "          0.64148438,  0.65413699,  0.66689521,  0.67976291,  0.69274417,\n",
       "          0.70584322,  0.71906453,  0.73241275,  0.74589275,  0.75950968,\n",
       "          0.77326892,  0.78717613,  0.80123728,  0.81545867,  0.82984693,\n",
       "          0.84440907,  0.85915251,  0.87408512,  0.88921522,  0.90455168,\n",
       "          0.9201039 ,  0.93588192,  0.95189643,  0.96815887,  0.98468148,\n",
       "          1.00147737,  1.01856064,  1.03594646,  1.0536512 ,  1.07169252,\n",
       "          1.09008958,  1.10886319,  1.12803597,  1.14763264,  1.16768023,\n",
       "          1.18820845,  1.20924999,  1.230841  ,  1.25302156,  1.27583633,\n",
       "          1.29933525,  1.32357442,  1.34861722,  1.37453559,  1.40141172,\n",
       "          1.42934008,  1.45843008,  1.48880944,  1.52062855,  1.55406631,\n",
       "          1.58933792,  1.62670558,  1.66649348,  1.70910939,  1.75507658,\n",
       "          1.80508277,  1.86005848,  1.9213089 ,  1.99075074,  2.07137443,\n",
       "          2.16825434,  2.29114787,  2.46319801,  2.7660794 ]),\n",
       "  array([ 3.07,  5.75,  7.25,  7.25,  7.51,  7.56,  7.74,  8.35,  8.51,\n",
       "          8.52,  8.58,  8.77,  9.55,  9.6 ,  9.68,  9.78,  9.94, 10.07,\n",
       "         10.07, 10.09, 10.27, 10.29, 10.33, 10.33, 10.34, 10.34, 10.51,\n",
       "         10.59, 10.63, 10.65, 10.77, 11.02, 11.17, 11.24, 11.35, 11.38,\n",
       "         11.59, 11.61, 11.69, 11.87, 12.02, 12.03, 12.16, 12.26, 12.43,\n",
       "         12.46, 12.48, 12.54, 12.6 , 12.66, 12.69, 12.74, 12.76, 12.9 ,\n",
       "         13.  , 13.  , 13.03, 13.13, 13.16, 13.27, 13.28, 13.37, 13.39,\n",
       "         13.42, 13.42, 13.42, 13.51, 13.81, 13.81, 13.94, 14.  , 14.07,\n",
       "         14.15, 14.26, 14.31, 14.48, 14.52, 14.73, 14.78, 14.83, 15.01,\n",
       "         15.04, 15.06, 15.36, 15.38, 15.42, 15.48, 15.53, 15.69, 15.69,\n",
       "         15.77, 15.81, 15.95, 15.98, 15.98, 16.  , 16.04, 16.21, 16.27,\n",
       "         16.29, 16.31, 16.32, 16.4 , 16.43, 16.45, 16.47, 16.49, 16.58,\n",
       "         16.66, 16.82, 16.93, 16.97, 16.99, 17.07, 17.26, 17.29, 17.31,\n",
       "         17.46, 17.47, 17.51, 17.59, 17.78, 17.81, 17.82, 17.89, 17.92,\n",
       "         17.92, 18.04, 18.15, 18.24, 18.26, 18.28, 18.29, 18.29, 18.35,\n",
       "         18.43, 18.64, 18.69, 18.71, 18.78, 19.08, 19.44, 19.49, 19.65,\n",
       "         19.77, 19.81, 19.82, 20.08, 20.23, 20.27, 20.29, 20.29, 20.45,\n",
       "         20.49, 20.53, 20.65, 20.69, 20.69, 20.76, 20.9 , 20.92, 21.01,\n",
       "         21.01, 21.16, 21.5 , 21.58, 21.7 , 22.12, 22.23, 22.42, 22.49,\n",
       "         22.67, 22.75, 22.76, 22.82, 23.1 , 23.17, 23.33, 23.68, 23.95,\n",
       "         24.01, 24.06, 24.08, 24.27, 24.52, 24.55, 24.59, 24.71, 25.  ,\n",
       "         25.21, 25.28, 25.29, 25.56, 25.71, 25.89, 26.41, 26.59, 26.86,\n",
       "         26.88, 27.05, 27.18, 27.2 , 27.28, 28.15, 28.17, 28.44, 28.55,\n",
       "         28.97, 29.03, 29.8 , 29.85, 29.93, 30.06, 30.14, 30.4 , 30.46,\n",
       "         31.27, 31.71, 31.85, 32.4 , 32.68, 32.83, 32.9 , 34.3 , 34.63,\n",
       "         34.65, 34.81, 34.83, 35.26, 35.83, 38.01, 38.07, 38.73, 39.42,\n",
       "         40.17, 40.55, 41.19, 43.11, 44.3 , 45.35, 48.17, 48.27, 48.33,\n",
       "         50.81])),\n",
       " (8.602787178294323, 19.785942622950817, 0.9592059123074986))"
      ]
     },
     "execution_count": 38,
     "metadata": {},
     "output_type": "execute_result"
    },
    {
     "data": {
      "image/png": "[encoded data removed]",
      "text/plain": [
       "<Figure size 640x480 with 1 Axes>"
      ]
     },
     "metadata": {},
     "output_type": "display_data"
    }
   ],
   "source": [
    "#QQ PLOT\n",
    "plt.subplot(1,2,2)\n",
    "stats.probplot(total_bill_series ,dist='norm',plot=plt)"
   ]
  },
  {
   "cell_type": "code",
   "execution_count": 89,
   "id": "ba4b388a-f6b8-4af6-9410-6da9eaecfbcd",
   "metadata": {},
   "outputs": [
    {
     "data": {
      "text/plain": [
       "<matplotlib.legend.Legend at 0x1c5b63054c0>"
      ]
     },
     "execution_count": 89,
     "metadata": {},
     "output_type": "execute_result"
    },
    {
     "data": {
      "image/png": "[encoded data removed]",
      "text/plain": [
       "<Figure size 640x480 with 1 Axes>"
      ]
     },
     "metadata": {},
     "output_type": "display_data"
    }
   ],
   "source": [
    "#NORMAL DISTRIBUTION\n",
    "x = np.linspace(total_bill_series.min(),total_bill_series.max(),1000)\n",
    "p =stats.norm.pdf(x,mu,std)\n",
    "plt.plot(x,p,'k',linewidth=2)\n",
    "title = \"Fit result : mu = %.2f, std=%.2f\"% (mu,std)\n",
    "plt.title(title)\n",
    "plt.xlabel(\"Total Bill\")\n",
    "plt.ylabel(\"Density\")\n",
    "plt.grid(True)\n",
    "\n",
    "#plot mean=- 3SD\n",
    "for i in range(1,4):\n",
    "    plt.axvline(mu-i*std,color='r',linestyle='--',linewidth=2,label=f'mean - {i}SD')\n",
    "    plt.axvline(mu+i*std,color='b',linestyle='--',linewidth=2,label=f'mean + {i}SD')\n",
    "\n",
    "plt.legend()"
   ]
  },
  {
   "cell_type": "code",
   "execution_count": 47,
   "id": "dc666b07-f576-4f40-a201-ae5b8f9be86a",
   "metadata": {},
   "outputs": [],
   "source": [
    "within_1sd = (z_score <=1) &(z_score >=-1)\n",
    "within_2sd = (z_score <=2) &(z_score >=-2)\n",
    "within_3sd = (z_score <=3) &(z_score >=-3)\n"
   ]
  },
  {
   "cell_type": "code",
   "execution_count": 57,
   "id": "d9d843c0-8bdb-4dc9-94a6-06e93da9bef2",
   "metadata": {},
   "outputs": [],
   "source": [
    "percentage_within_1sd = np.sum(within_1sd)/len(total_bill_series)*100\n",
    "percentage_within_2sd = np.sum(within_2sd)/len(total_bill_series)*100\n",
    "percentage_within_3sd = np.sum(within_3sd)/len(total_bill_series)*100\n",
    "                               "
   ]
  },
  {
   "cell_type": "code",
   "execution_count": 65,
   "id": "52372247-9823-4774-b8d3-56cffe308f53",
   "metadata": {},
   "outputs": [
    {
     "data": {
      "text/plain": [
       "72.1311475409836"
      ]
     },
     "execution_count": 65,
     "metadata": {},
     "output_type": "execute_result"
    }
   ],
   "source": [
    "percentage_within_1sd "
   ]
  },
  {
   "cell_type": "code",
   "execution_count": 59,
   "id": "1899e9aa-75ab-471b-a6b3-3180fdb6b126",
   "metadata": {},
   "outputs": [],
   "source": [
    "result_df = pd.DataFrame({\n",
    "    'total_bill' : total_bill_series,\n",
    "    'z_score' : z_score,\n",
    "    'within_1sd' : within_1sd,\n",
    "    'within_2sd' : within_2sd,\n",
    "    'within_3sd' : within_3sd\n",
    "})"
   ]
  },
  {
   "cell_type": "code",
   "execution_count": 60,
   "id": "e435c39b-70bf-481b-8caf-c375165b4b2e",
   "metadata": {},
   "outputs": [],
   "source": [
    "import os"
   ]
  },
  {
   "cell_type": "code",
   "execution_count": 61,
   "id": "d918e88b-d50e-4a2f-a274-2323184b292e",
   "metadata": {},
   "outputs": [],
   "source": [
    "if os.path.exists('deletethis-2.csv'):\n",
    "    os.remove('deletethis-2.csv')"
   ]
  },
  {
   "cell_type": "code",
   "execution_count": 62,
   "id": "bde4f51c-a554-4090-bd5f-3ea38335ab8b",
   "metadata": {},
   "outputs": [],
   "source": [
    "result_df.to_csv('deletethis-2.csv',index=False)"
   ]
  },
  {
   "cell_type": "code",
   "execution_count": null,
   "id": "a7683c5d-9241-41c9-8aad-1cb574ac374c",
   "metadata": {},
   "outputs": [],
   "source": []
  },
  {
   "cell_type": "code",
   "execution_count": 63,
   "id": "5176b7cd-a779-4373-a73e-77c146748d15",
   "metadata": {},
   "outputs": [],
   "source": [
    "#outliers\n",
    "import seaborn as sns"
   ]
  },
  {
   "cell_type": "code",
   "execution_count": 97,
   "id": "2862d688-52e6-4994-b253-8a9b4d1be272",
   "metadata": {},
   "outputs": [
    {
     "data": {
      "text/plain": [
       "{'whiskers': [<matplotlib.lines.Line2D at 0x1c5b930cb90>,\n",
       "  <matplotlib.lines.Line2D at 0x1c5b930ce60>],\n",
       " 'caps': [<matplotlib.lines.Line2D at 0x1c5b930d130>,\n",
       "  <matplotlib.lines.Line2D at 0x1c5b930d3d0>],\n",
       " 'boxes': [<matplotlib.lines.Line2D at 0x1c5b930c8f0>],\n",
       " 'medians': [<matplotlib.lines.Line2D at 0x1c5b930d6d0>],\n",
       " 'fliers': [<matplotlib.lines.Line2D at 0x1c5b930d9a0>],\n",
       " 'means': []}"
      ]
     },
     "execution_count": 97,
     "metadata": {},
     "output_type": "execute_result"
    },
    {
     "data": {
      "image/png": "[encoded data removed]",
      "text/plain": [
       "<Figure size 800x600 with 1 Axes>"
      ]
     },
     "metadata": {},
     "output_type": "display_data"
    }
   ],
   "source": [
    "plt.figure(figsize=(8,6))\n",
    "plt.boxplot(result_df['z_score'],vert=False,flierprops= dict(marker='*',markerfacecolor='red',markersize=10))\n"
   ]
  },
  {
   "cell_type": "code",
   "execution_count": null,
   "id": "bfc1ee09-e3b5-4d9c-8c74-ed9f34ac83ee",
   "metadata": {},
   "outputs": [],
   "source": []
  }
 ],
 "metadata": {
  "kernelspec": {
   "display_name": "Python 3 (ipykernel)",
   "language": "python",
   "name": "python3"
  },
  "language_info": {
   "codemirror_mode": {
    "name": "ipython",
    "version": 3
   },
   "file_extension": ".py",
   "mimetype": "text/x-python",
   "name": "python",
   "nbconvert_exporter": "python",
   "pygments_lexer": "ipython3",
   "version": "3.12.4"
  }
 },
 "nbformat": 4,
 "nbformat_minor": 5
}
