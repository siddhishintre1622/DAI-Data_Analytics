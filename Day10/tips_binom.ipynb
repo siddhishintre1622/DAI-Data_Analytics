{
 "cells": [
  {
   "cell_type": "code",
   "execution_count": 1,
   "id": "55f40175-68bf-47d0-8505-70e3b8203291",
   "metadata": {},
   "outputs": [],
   "source": [
    "import pandas as pd\n",
    "import numpy as np\n",
    "import matplotlib.pyplot as plt\n",
    "from scipy.stats import binom"
   ]
  },
  {
   "cell_type": "code",
   "execution_count": 2,
   "id": "b443b8b4-e261-4c38-849d-e9124efe9f08",
   "metadata": {},
   "outputs": [],
   "source": [
    "tips_df = pd.read_csv('tips.csv')"
   ]
  },
  {
   "cell_type": "code",
   "execution_count": 3,
   "id": "d6b2fcc8-8bd3-4149-ac0b-78a376c138b2",
   "metadata": {},
   "outputs": [],
   "source": [
    "def classify_tip(row):\n",
    "    total_bill = row['total_bill']\n",
    "    tip  = row['tip']\n",
    "    if (tip/total_bill) > 0.15:\n",
    "        return 1\n",
    "    else:\n",
    "        return 0"
   ]
  },
  {
   "cell_type": "code",
   "execution_count": 4,
   "id": "83f4197c-048d-41b4-b895-77d352d08b5a",
   "metadata": {},
   "outputs": [],
   "source": [
    "tips_df['tip_binary'] = tips_df.apply(classify_tip,axis=1)"
   ]
  },
  {
   "cell_type": "code",
   "execution_count": 5,
   "id": "44e277da-45fa-45eb-a0fb-dfc8df3328ce",
   "metadata": {},
   "outputs": [],
   "source": [
    "n = len(tips_df)"
   ]
  },
  {
   "cell_type": "code",
   "execution_count": 6,
   "id": "186c13c6-a57f-4098-846a-13f3b63cb839",
   "metadata": {},
   "outputs": [
    {
     "data": {
      "text/plain": [
       "244"
      ]
     },
     "execution_count": 6,
     "metadata": {},
     "output_type": "execute_result"
    }
   ],
   "source": [
    "n"
   ]
  },
  {
   "cell_type": "code",
   "execution_count": 7,
   "id": "891667af-6549-4b82-ae40-5cd142187c9b",
   "metadata": {},
   "outputs": [],
   "source": [
    "k = tips_df['tip_binary'].sum()"
   ]
  },
  {
   "cell_type": "code",
   "execution_count": 8,
   "id": "465e1193-e523-4509-90ca-a6650a519503",
   "metadata": {},
   "outputs": [
    {
     "data": {
      "text/plain": [
       "135"
      ]
     },
     "execution_count": 8,
     "metadata": {},
     "output_type": "execute_result"
    }
   ],
   "source": [
    "k"
   ]
  },
  {
   "cell_type": "code",
   "execution_count": 9,
   "id": "bf4a8424-7ef1-433f-9de1-7f8a2b88273f",
   "metadata": {},
   "outputs": [],
   "source": [
    "p = k/n"
   ]
  },
  {
   "cell_type": "code",
   "execution_count": 12,
   "id": "9f2cb925-a368-48ba-9625-e4779cda6c53",
   "metadata": {},
   "outputs": [
    {
     "data": {
      "text/plain": [
       "0.5532786885245902"
      ]
     },
     "execution_count": 12,
     "metadata": {},
     "output_type": "execute_result"
    }
   ],
   "source": [
    "p"
   ]
  },
  {
   "cell_type": "code",
   "execution_count": 13,
   "id": "4e3f6262-604b-4ef6-8474-9e13d4f361cd",
   "metadata": {},
   "outputs": [],
   "source": [
    "trials = 100"
   ]
  },
  {
   "cell_type": "code",
   "execution_count": 14,
   "id": "b6301cf0-60ef-456f-a935-6a0a819a5273",
   "metadata": {},
   "outputs": [],
   "source": [
    "x = np.arange(0,trials+1)"
   ]
  },
  {
   "cell_type": "code",
   "execution_count": 17,
   "id": "dc2911be-cfde-4467-8bda-3c3eee68d5aa",
   "metadata": {},
   "outputs": [],
   "source": [
    "pmf_values = binom.pmf(x,trials,p)"
   ]
  },
  {
   "cell_type": "code",
   "execution_count": 18,
   "id": "4a8556f9-531c-4009-bca5-fcfafa9a60bb",
   "metadata": {},
   "outputs": [],
   "source": [
    "cumulative_probability = 0"
   ]
  },
  {
   "cell_type": "code",
   "execution_count": 20,
   "id": "d0f55748-7789-4557-a171-3c079cdafb44",
   "metadata": {},
   "outputs": [
    {
     "name": "stdout",
     "output_type": "stream",
     "text": [
      "Probability for 0 success = 0.000000 ... Cumulative_probability = 0.000000\n",
      "Probability for 1 success = 0.000000 ... Cumulative_probability = 0.000000\n",
      "Probability for 2 success = 0.000000 ... Cumulative_probability = 0.000000\n",
      "Probability for 3 success = 0.000000 ... Cumulative_probability = 0.000000\n",
      "Probability for 4 success = 0.000000 ... Cumulative_probability = 0.000000\n",
      "Probability for 5 success = 0.000000 ... Cumulative_probability = 0.000000\n",
      "Probability for 6 success = 0.000000 ... Cumulative_probability = 0.000000\n",
      "Probability for 7 success = 0.000000 ... Cumulative_probability = 0.000000\n",
      "Probability for 8 success = 0.000000 ... Cumulative_probability = 0.000000\n",
      "Probability for 9 success = 0.000000 ... Cumulative_probability = 0.000000\n",
      "Probability for 10 success = 0.000000 ... Cumulative_probability = 0.000000\n",
      "Probability for 11 success = 0.000000 ... Cumulative_probability = 0.000000\n",
      "Probability for 12 success = 0.000000 ... Cumulative_probability = 0.000000\n",
      "Probability for 13 success = 0.000000 ... Cumulative_probability = 0.000000\n",
      "Probability for 14 success = 0.000000 ... Cumulative_probability = 0.000000\n",
      "Probability for 15 success = 0.000000 ... Cumulative_probability = 0.000000\n",
      "Probability for 16 success = 0.000000 ... Cumulative_probability = 0.000000\n",
      "Probability for 17 success = 0.000000 ... Cumulative_probability = 0.000000\n",
      "Probability for 18 success = 0.000000 ... Cumulative_probability = 0.000000\n",
      "Probability for 19 success = 0.000000 ... Cumulative_probability = 0.000000\n",
      "Probability for 20 success = 0.000000 ... Cumulative_probability = 0.000000\n",
      "Probability for 21 success = 0.000000 ... Cumulative_probability = 0.000000\n",
      "Probability for 22 success = 0.000000 ... Cumulative_probability = 0.000000\n",
      "Probability for 23 success = 0.000000 ... Cumulative_probability = 0.000000\n",
      "Probability for 24 success = 0.000000 ... Cumulative_probability = 0.000000\n",
      "Probability for 25 success = 0.000000 ... Cumulative_probability = 0.000000\n",
      "Probability for 26 success = 0.000000 ... Cumulative_probability = 0.000000\n",
      "Probability for 27 success = 0.000000 ... Cumulative_probability = 0.000000\n",
      "Probability for 28 success = 0.000000 ... Cumulative_probability = 0.000000\n",
      "Probability for 29 success = 0.000000 ... Cumulative_probability = 0.000000\n",
      "Probability for 30 success = 0.000000 ... Cumulative_probability = 0.000000\n",
      "Probability for 31 success = 0.000001 ... Cumulative_probability = 0.000001\n",
      "Probability for 32 success = 0.000001 ... Cumulative_probability = 0.000002\n",
      "Probability for 33 success = 0.000003 ... Cumulative_probability = 0.000006\n",
      "Probability for 34 success = 0.000008 ... Cumulative_probability = 0.000014\n",
      "Probability for 35 success = 0.000020 ... Cumulative_probability = 0.000034\n",
      "Probability for 36 success = 0.000044 ... Cumulative_probability = 0.000078\n",
      "Probability for 37 success = 0.000094 ... Cumulative_probability = 0.000172\n",
      "Probability for 38 success = 0.000194 ... Cumulative_probability = 0.000366\n",
      "Probability for 39 success = 0.000382 ... Cumulative_probability = 0.000748\n",
      "Probability for 40 success = 0.000721 ... Cumulative_probability = 0.001470\n",
      "Probability for 41 success = 0.001307 ... Cumulative_probability = 0.002777\n",
      "Probability for 42 success = 0.002275 ... Cumulative_probability = 0.005052\n",
      "Probability for 43 success = 0.003800 ... Cumulative_probability = 0.008852\n",
      "Probability for 44 success = 0.006097 ... Cumulative_probability = 0.014949\n",
      "Probability for 45 success = 0.009397 ... Cumulative_probability = 0.024346\n",
      "Probability for 46 success = 0.013916 ... Cumulative_probability = 0.038262\n",
      "Probability for 47 success = 0.019803 ... Cumulative_probability = 0.058065\n",
      "Probability for 48 success = 0.027081 ... Cumulative_probability = 0.085146\n",
      "Probability for 49 success = 0.035594 ... Cumulative_probability = 0.120740\n",
      "Probability for 50 success = 0.044966 ... Cumulative_probability = 0.165706\n",
      "Probability for 51 success = 0.054600 ... Cumulative_probability = 0.220306\n",
      "Probability for 52 success = 0.063722 ... Cumulative_probability = 0.284028\n",
      "Probability for 53 success = 0.071477 ... Cumulative_probability = 0.355505\n",
      "Probability for 54 success = 0.077051 ... Cumulative_probability = 0.432555\n",
      "Probability for 55 success = 0.079814 ... Cumulative_probability = 0.512369\n",
      "Probability for 56 success = 0.079435 ... Cumulative_probability = 0.591804\n",
      "Probability for 57 success = 0.075944 ... Cumulative_probability = 0.667748\n",
      "Probability for 58 success = 0.069734 ... Cumulative_probability = 0.737482\n",
      "Probability for 59 success = 0.061482 ... Cumulative_probability = 0.798964\n",
      "Probability for 60 success = 0.052034 ... Cumulative_probability = 0.850998\n",
      "Probability for 61 success = 0.042260 ... Cumulative_probability = 0.893257\n",
      "Probability for 62 success = 0.032923 ... Cumulative_probability = 0.926180\n",
      "Probability for 63 success = 0.024595 ... Cumulative_probability = 0.950776\n",
      "Probability for 64 success = 0.017611 ... Cumulative_probability = 0.968387\n",
      "Probability for 65 success = 0.012080 ... Cumulative_probability = 0.980467\n",
      "Probability for 66 success = 0.007934 ... Cumulative_probability = 0.988402\n",
      "Probability for 67 success = 0.004987 ... Cumulative_probability = 0.993388\n",
      "Probability for 68 success = 0.002997 ... Cumulative_probability = 0.996386\n",
      "Probability for 69 success = 0.001722 ... Cumulative_probability = 0.998107\n",
      "Probability for 70 success = 0.000944 ... Cumulative_probability = 0.999052\n",
      "Probability for 71 success = 0.000494 ... Cumulative_probability = 0.999546\n",
      "Probability for 72 success = 0.000247 ... Cumulative_probability = 0.999792\n",
      "Probability for 73 success = 0.000117 ... Cumulative_probability = 0.999910\n",
      "Probability for 74 success = 0.000053 ... Cumulative_probability = 0.999962\n",
      "Probability for 75 success = 0.000023 ... Cumulative_probability = 0.999985\n",
      "Probability for 76 success = 0.000009 ... Cumulative_probability = 0.999994\n",
      "Probability for 77 success = 0.000004 ... Cumulative_probability = 0.999998\n",
      "Probability for 78 success = 0.000001 ... Cumulative_probability = 0.999999\n",
      "Probability for 79 success = 0.000000 ... Cumulative_probability = 1.000000\n",
      "Probability for 80 success = 0.000000 ... Cumulative_probability = 1.000000\n",
      "Probability for 81 success = 0.000000 ... Cumulative_probability = 1.000000\n",
      "Probability for 82 success = 0.000000 ... Cumulative_probability = 1.000000\n",
      "Probability for 83 success = 0.000000 ... Cumulative_probability = 1.000000\n",
      "Probability for 84 success = 0.000000 ... Cumulative_probability = 1.000000\n",
      "Probability for 85 success = 0.000000 ... Cumulative_probability = 1.000000\n",
      "Probability for 86 success = 0.000000 ... Cumulative_probability = 1.000000\n",
      "Probability for 87 success = 0.000000 ... Cumulative_probability = 1.000000\n",
      "Probability for 88 success = 0.000000 ... Cumulative_probability = 1.000000\n",
      "Probability for 89 success = 0.000000 ... Cumulative_probability = 1.000000\n",
      "Probability for 90 success = 0.000000 ... Cumulative_probability = 1.000000\n",
      "Probability for 91 success = 0.000000 ... Cumulative_probability = 1.000000\n",
      "Probability for 92 success = 0.000000 ... Cumulative_probability = 1.000000\n",
      "Probability for 93 success = 0.000000 ... Cumulative_probability = 1.000000\n",
      "Probability for 94 success = 0.000000 ... Cumulative_probability = 1.000000\n",
      "Probability for 95 success = 0.000000 ... Cumulative_probability = 1.000000\n",
      "Probability for 96 success = 0.000000 ... Cumulative_probability = 1.000000\n",
      "Probability for 97 success = 0.000000 ... Cumulative_probability = 1.000000\n",
      "Probability for 98 success = 0.000000 ... Cumulative_probability = 1.000000\n",
      "Probability for 99 success = 0.000000 ... Cumulative_probability = 1.000000\n",
      "Probability for 100 success = 0.000000 ... Cumulative_probability = 1.000000\n"
     ]
    }
   ],
   "source": [
    "for i in x:\n",
    "    cumulative_probability = binom.cdf(i,trials ,p)\n",
    "    print(f\"Probability for {i} success = {pmf_values[i]:.6f} ... Cumulative_probability = {cumulative_probability:.6f}\")"
   ]
  },
  {
   "cell_type": "code",
   "execution_count": null,
   "id": "e2dab9b8-a598-4bea-8360-f91a3f8d7555",
   "metadata": {},
   "outputs": [],
   "source": []
  }
 ],
 "metadata": {
  "kernelspec": {
   "display_name": "Python 3 (ipykernel)",
   "language": "python",
   "name": "python3"
  },
  "language_info": {
   "codemirror_mode": {
    "name": "ipython",
    "version": 3
   },
   "file_extension": ".py",
   "mimetype": "text/x-python",
   "name": "python",
   "nbconvert_exporter": "python",
   "pygments_lexer": "ipython3",
   "version": "3.12.4"
  }
 },
 "nbformat": 4,
 "nbformat_minor": 5
}
