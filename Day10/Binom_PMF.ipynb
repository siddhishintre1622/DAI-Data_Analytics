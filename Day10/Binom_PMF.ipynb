{
 "cells": [
  {
   "cell_type": "code",
   "execution_count": 1,
   "id": "af74e7a4-7124-4b95-b359-aea2cce43988",
   "metadata": {},
   "outputs": [],
   "source": [
    "from scipy.stats import binom"
   ]
  },
  {
   "cell_type": "code",
   "execution_count": 4,
   "id": "43100bd7-c7d5-482b-8059-b066b6ff168f",
   "metadata": {},
   "outputs": [],
   "source": [
    "#Given Values\n",
    "n=5  #Total no. of students\n",
    "k=3  #No. of students who like Python\n",
    "p=0.66  #Probability that a student likes Python"
   ]
  },
  {
   "cell_type": "code",
   "execution_count": 6,
   "id": "dff19808-2a2a-4e7f-9786-e6521efedace",
   "metadata": {},
   "outputs": [
    {
     "name": "stdout",
     "output_type": "stream",
     "text": [
      "The probabilty that exactly 3 out of 5 students like Python is 0.3323\n"
     ]
    }
   ],
   "source": [
    "# Calculate binomial probability\n",
    "probability = binom.pmf(k,n,p)\n",
    "print(f\"The probabilty that exactly {k} out of {n} students like Python is {probability:.4f}\")"
   ]
  },
  {
   "cell_type": "code",
   "execution_count": 7,
   "id": "b2aad188-996e-413f-84ba-06a1cdd146c8",
   "metadata": {},
   "outputs": [
    {
     "name": "stdout",
     "output_type": "stream",
     "text": [
      "probability is 0.1172\n"
     ]
    }
   ],
   "source": [
    "n=7\n",
    "k=2\n",
    "p= 0.55\n",
    "probability = binom.pmf(k,n,p)\n",
    "print(f\"probability is {probability:.4f}\")"
   ]
  },
  {
   "cell_type": "code",
   "execution_count": 9,
   "id": "f5e7afdc-0652-48f7-bf38-562143bff8fe",
   "metadata": {},
   "outputs": [],
   "source": [
    "pro = binom.pmf(3,5,0.66)"
   ]
  },
  {
   "cell_type": "code",
   "execution_count": 10,
   "id": "2ebcc465-96e2-4988-8077-d3b356c02e8c",
   "metadata": {},
   "outputs": [
    {
     "data": {
      "text/plain": [
       "0.3323453760000002"
      ]
     },
     "execution_count": 10,
     "metadata": {},
     "output_type": "execute_result"
    }
   ],
   "source": [
    "pro"
   ]
  },
  {
   "cell_type": "code",
   "execution_count": null,
   "id": "827d9955-dddf-49a8-9d8a-f6300fb2bbd1",
   "metadata": {},
   "outputs": [],
   "source": [
    "                       "
   ]
  }
 ],
 "metadata": {
  "kernelspec": {
   "display_name": "Python 3 (ipykernel)",
   "language": "python",
   "name": "python3"
  },
  "language_info": {
   "codemirror_mode": {
    "name": "ipython",
    "version": 3
   },
   "file_extension": ".py",
   "mimetype": "text/x-python",
   "name": "python",
   "nbconvert_exporter": "python",
   "pygments_lexer": "ipython3",
   "version": "3.12.4"
  }
 },
 "nbformat": 4,
 "nbformat_minor": 5
}
