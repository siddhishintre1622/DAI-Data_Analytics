{
 "cells": [
  {
   "cell_type": "code",
   "execution_count": 4,
   "id": "d6c5062d-bbfa-44fb-b524-7c873e94c092",
   "metadata": {},
   "outputs": [],
   "source": [
    "import numpy as np"
   ]
  },
  {
   "cell_type": "code",
   "execution_count": 5,
   "id": "f9c04471-8cbe-46f2-b7f7-7110dc496b8d",
   "metadata": {},
   "outputs": [
    {
     "data": {
      "text/plain": [
       "'1.26.4'"
      ]
     },
     "execution_count": 5,
     "metadata": {},
     "output_type": "execute_result"
    }
   ],
   "source": [
    "np.__version__"
   ]
  },
  {
   "cell_type": "code",
   "execution_count": 6,
   "id": "77b0981a-32aa-493c-bc33-498d7cb95d11",
   "metadata": {},
   "outputs": [
    {
     "name": "stdout",
     "output_type": "stream",
     "text": [
      "Build Dependencies:\n",
      "  blas:\n",
      "    detection method: pkgconfig\n",
      "    found: true\n",
      "    include directory: C:/anaconda-install/Library/include\n",
      "    lib directory: C:/anaconda-install/Library/lib\n",
      "    name: mkl-sdl\n",
      "    openblas configuration: unknown\n",
      "    pc file directory: C:\\b\\abs_c1ywpu18ar\\croot\\numpy_and_numpy_base_1708638681471\\_h_env\\Library\\lib\\pkgconfig\n",
      "    version: '2023.1'\n",
      "  lapack:\n",
      "    detection method: internal\n",
      "    found: true\n",
      "    include directory: unknown\n",
      "    lib directory: unknown\n",
      "    name: dep1583119523984\n",
      "    openblas configuration: unknown\n",
      "    pc file directory: unknown\n",
      "    version: 1.26.4\n",
      "Compilers:\n",
      "  c:\n",
      "    commands: cl.exe\n",
      "    linker: link\n",
      "    name: msvc\n",
      "    version: 19.29.30154\n",
      "  c++:\n",
      "    commands: cl.exe\n",
      "    linker: link\n",
      "    name: msvc\n",
      "    version: 19.29.30154\n",
      "  cython:\n",
      "    commands: cython\n",
      "    linker: cython\n",
      "    name: cython\n",
      "    version: 3.0.8\n",
      "Machine Information:\n",
      "  build:\n",
      "    cpu: x86_64\n",
      "    endian: little\n",
      "    family: x86_64\n",
      "    system: windows\n",
      "  host:\n",
      "    cpu: x86_64\n",
      "    endian: little\n",
      "    family: x86_64\n",
      "    system: windows\n",
      "Python Information:\n",
      "  path: C:\\b\\abs_c1ywpu18ar\\croot\\numpy_and_numpy_base_1708638681471\\_h_env\\python.exe\n",
      "  version: '3.12'\n",
      "SIMD Extensions:\n",
      "  baseline:\n",
      "  - SSE\n",
      "  - SSE2\n",
      "  - SSE3\n",
      "  found:\n",
      "  - SSSE3\n",
      "  - SSE41\n",
      "  - POPCNT\n",
      "  - SSE42\n",
      "  - AVX\n",
      "  - F16C\n",
      "  - FMA3\n",
      "  - AVX2\n",
      "  - AVX512F\n",
      "  - AVX512CD\n",
      "  - AVX512_SKX\n",
      "  - AVX512_CLX\n",
      "  not found:\n",
      "  - AVX512_CNL\n",
      "  - AVX512_ICL\n",
      "\n"
     ]
    }
   ],
   "source": [
    "np.show_config()"
   ]
  },
  {
   "cell_type": "code",
   "execution_count": 7,
   "id": "c5bbefd5-4036-4eb1-88bd-cda588bd5531",
   "metadata": {},
   "outputs": [
    {
     "name": "stdout",
     "output_type": "stream",
     "text": [
      "Help on ufunc:\n",
      "\n",
      "add = <ufunc 'add'>\n",
      "    add(x1, x2, /, out=None, *, where=True, casting='same_kind', order='K', dtype=None, subok=True[, signature, extobj])\n",
      "\n",
      "    Add arguments element-wise.\n",
      "\n",
      "    Parameters\n",
      "    ----------\n",
      "    x1, x2 : array_like\n",
      "        The arrays to be added.\n",
      "        If ``x1.shape != x2.shape``, they must be broadcastable to a common\n",
      "        shape (which becomes the shape of the output).\n",
      "    out : ndarray, None, or tuple of ndarray and None, optional\n",
      "        A location into which the result is stored. If provided, it must have\n",
      "        a shape that the inputs broadcast to. If not provided or None,\n",
      "        a freshly-allocated array is returned. A tuple (possible only as a\n",
      "        keyword argument) must have length equal to the number of outputs.\n",
      "    where : array_like, optional\n",
      "        This condition is broadcast over the input. At locations where the\n",
      "        condition is True, the `out` array will be set to the ufunc result.\n",
      "        Elsewhere, the `out` array will retain its original value.\n",
      "        Note that if an uninitialized `out` array is created via the default\n",
      "        ``out=None``, locations within it where the condition is False will\n",
      "        remain uninitialized.\n",
      "    **kwargs\n",
      "        For other keyword-only arguments, see the\n",
      "        :ref:`ufunc docs <ufuncs.kwargs>`.\n",
      "\n",
      "    Returns\n",
      "    -------\n",
      "    add : ndarray or scalar\n",
      "        The sum of `x1` and `x2`, element-wise.\n",
      "        This is a scalar if both `x1` and `x2` are scalars.\n",
      "\n",
      "    Notes\n",
      "    -----\n",
      "    Equivalent to `x1` + `x2` in terms of array broadcasting.\n",
      "\n",
      "    Examples\n",
      "    --------\n",
      "    >>> np.add(1.0, 4.0)\n",
      "    5.0\n",
      "    >>> x1 = np.arange(9.0).reshape((3, 3))\n",
      "    >>> x2 = np.arange(3.0)\n",
      "    >>> np.add(x1, x2)\n",
      "    array([[  0.,   2.,   4.],\n",
      "           [  3.,   5.,   7.],\n",
      "           [  6.,   8.,  10.]])\n",
      "\n",
      "    The ``+`` operator can be used as a shorthand for ``np.add`` on ndarrays.\n",
      "\n",
      "    >>> x1 = np.arange(9.0).reshape((3, 3))\n",
      "    >>> x2 = np.arange(3.0)\n",
      "    >>> x1 + x2\n",
      "    array([[ 0.,  2.,  4.],\n",
      "           [ 3.,  5.,  7.],\n",
      "           [ 6.,  8., 10.]])\n",
      "\n"
     ]
    }
   ],
   "source": [
    "help(np.add)"
   ]
  },
  {
   "cell_type": "code",
   "execution_count": 8,
   "id": "2698f704-2ebc-4e8f-aa9a-0d9f20f6a5b8",
   "metadata": {},
   "outputs": [
    {
     "data": {
      "text/plain": [
       "True"
      ]
     },
     "execution_count": 8,
     "metadata": {},
     "output_type": "execute_result"
    }
   ],
   "source": [
    "arr = np.array([1,2,3,4])\n",
    "np.all(arr)"
   ]
  },
  {
   "cell_type": "code",
   "execution_count": 9,
   "id": "5458776d-34a7-42b8-966b-7da26bff25bc",
   "metadata": {},
   "outputs": [
    {
     "data": {
      "text/plain": [
       "True"
      ]
     },
     "execution_count": 9,
     "metadata": {},
     "output_type": "execute_result"
    }
   ],
   "source": [
    "arr= np.array([0,2,3,0])\n",
    "np.any(arr)"
   ]
  },
  {
   "cell_type": "code",
   "execution_count": 12,
   "id": "67bb1d14-d479-497a-957d-2f2cedd54ab0",
   "metadata": {},
   "outputs": [
    {
     "data": {
      "text/plain": [
       "('Finite?', True)"
      ]
     },
     "execution_count": 12,
     "metadata": {},
     "output_type": "execute_result"
    }
   ],
   "source": [
    "(\"Finite?\",np.isfinite(1))"
   ]
  },
  {
   "cell_type": "code",
   "execution_count": 16,
   "id": "f8dac078-fc3c-4c59-b7e9-ddc9465e01fc",
   "metadata": {},
   "outputs": [],
   "source": [
    "arr = np.array([1, -2, np.inf, -np.inf, 0, 3.5])"
   ]
  },
  {
   "cell_type": "code",
   "execution_count": 17,
   "id": "a554115a-457c-4b19-9da4-21df7ba37fc8",
   "metadata": {},
   "outputs": [
    {
     "data": {
      "text/plain": [
       "array([False, False,  True, False, False, False])"
      ]
     },
     "execution_count": 17,
     "metadata": {},
     "output_type": "execute_result"
    }
   ],
   "source": [
    "np.isposinf(arr)"
   ]
  },
  {
   "cell_type": "code",
   "execution_count": 18,
   "id": "498b1899-154f-4a63-b494-3bdf37c5b06b",
   "metadata": {},
   "outputs": [
    {
     "data": {
      "text/plain": [
       "array([False, False, False,  True, False, False])"
      ]
     },
     "execution_count": 18,
     "metadata": {},
     "output_type": "execute_result"
    }
   ],
   "source": [
    "np.isneginf(arr)"
   ]
  },
  {
   "cell_type": "code",
   "execution_count": 20,
   "id": "c196ad30-a1a4-4e0b-a16a-d006fa253ea0",
   "metadata": {},
   "outputs": [
    {
     "data": {
      "text/plain": [
       "array([False, False,  True, False, False, False])"
      ]
     },
     "execution_count": 20,
     "metadata": {},
     "output_type": "execute_result"
    }
   ],
   "source": [
    "arr = np.array([1, -2, np.nan, np.inf, 0, 3.5])\n",
    "np.isnan(arr)"
   ]
  },
  {
   "cell_type": "code",
   "execution_count": 26,
   "id": "39b686b1-d030-4ee6-8692-80a9f501bccc",
   "metadata": {},
   "outputs": [
    {
     "data": {
      "text/plain": [
       "array([ True,  True, False, False,  True])"
      ]
     },
     "execution_count": 26,
     "metadata": {},
     "output_type": "execute_result"
    }
   ],
   "source": [
    "arr = np.array([1+1j, 1+5j, 3.2 ,4, 2j])\n",
    "np.iscomplex(arr)"
   ]
  },
  {
   "cell_type": "code",
   "execution_count": 27,
   "id": "ae39fd36-ab57-4498-a8d9-8109c456a74f",
   "metadata": {},
   "outputs": [
    {
     "data": {
      "text/plain": [
       "array([False, False,  True,  True, False])"
      ]
     },
     "execution_count": 27,
     "metadata": {},
     "output_type": "execute_result"
    }
   ],
   "source": [
    "np.isreal(arr)"
   ]
  },
  {
   "cell_type": "code",
   "execution_count": 28,
   "id": "5169599e-81bc-4f1c-acbc-b16a1e9c7e22",
   "metadata": {},
   "outputs": [
    {
     "data": {
      "text/plain": [
       "True"
      ]
     },
     "execution_count": 28,
     "metadata": {},
     "output_type": "execute_result"
    }
   ],
   "source": [
    "np.isscalar(3.2)"
   ]
  },
  {
   "cell_type": "code",
   "execution_count": 29,
   "id": "b84fddc9-35c0-469e-aad9-c3dae6547fef",
   "metadata": {},
   "outputs": [
    {
     "data": {
      "text/plain": [
       "False"
      ]
     },
     "execution_count": 29,
     "metadata": {},
     "output_type": "execute_result"
    }
   ],
   "source": [
    "np.isscalar([3.2])"
   ]
  },
  {
   "cell_type": "code",
   "execution_count": 32,
   "id": "d764571f-136a-46ae-9536-f3fed48de5b3",
   "metadata": {},
   "outputs": [
    {
     "data": {
      "text/plain": [
       "array([False, False, False])"
      ]
     },
     "execution_count": 32,
     "metadata": {},
     "output_type": "execute_result"
    }
   ],
   "source": [
    "arr_a = np.array([1,2,3])\n",
    "arr_b = np.array([4,5,6])\n",
    "arr_a> arr_b"
   ]
  },
  {
   "cell_type": "code",
   "execution_count": 33,
   "id": "4adb27d9-e5ba-418e-8585-e34c5c1afcec",
   "metadata": {},
   "outputs": [
    {
     "data": {
      "text/plain": [
       "array([ True,  True,  True])"
      ]
     },
     "execution_count": 33,
     "metadata": {},
     "output_type": "execute_result"
    }
   ],
   "source": [
    "arr_a < arr_b"
   ]
  },
  {
   "cell_type": "code",
   "execution_count": 34,
   "id": "ea33cf7b-977d-44d3-964e-1dc38a64177f",
   "metadata": {},
   "outputs": [
    {
     "data": {
      "text/plain": [
       "array([False, False, False])"
      ]
     },
     "execution_count": 34,
     "metadata": {},
     "output_type": "execute_result"
    }
   ],
   "source": [
    "np.greater_equal([1,2,3], [4,5,6])"
   ]
  },
  {
   "cell_type": "code",
   "execution_count": 35,
   "id": "b047ae43-24ee-42fc-9a78-06548c0394e3",
   "metadata": {},
   "outputs": [
    {
     "data": {
      "text/plain": [
       "array([False, False, False])"
      ]
     },
     "execution_count": 35,
     "metadata": {},
     "output_type": "execute_result"
    }
   ],
   "source": [
    "arr_a >= arr_b"
   ]
  },
  {
   "cell_type": "code",
   "execution_count": 36,
   "id": "8157dd6a-a4ba-42e4-80a1-30c6298c4a90",
   "metadata": {},
   "outputs": [
    {
     "data": {
      "text/plain": [
       "array([ True,  True,  True])"
      ]
     },
     "execution_count": 36,
     "metadata": {},
     "output_type": "execute_result"
    }
   ],
   "source": [
    "np.less_equal([1,2,3],[4,5,6])"
   ]
  },
  {
   "cell_type": "code",
   "execution_count": 37,
   "id": "4686aab8-f85d-425d-86f8-500eecbdf588",
   "metadata": {},
   "outputs": [
    {
     "data": {
      "text/plain": [
       "array([ True,  True,  True])"
      ]
     },
     "execution_count": 37,
     "metadata": {},
     "output_type": "execute_result"
    }
   ],
   "source": [
    "arr_a <= arr_b"
   ]
  },
  {
   "cell_type": "code",
   "execution_count": 42,
   "id": "e93ee862-1838-44d1-bc56-26f530dd95c2",
   "metadata": {},
   "outputs": [
    {
     "data": {
      "text/plain": [
       "array([  1,   7,  13, 105])"
      ]
     },
     "execution_count": 42,
     "metadata": {},
     "output_type": "execute_result"
    }
   ],
   "source": [
    "arr= np.array([1,7,13,105])\n",
    "arr"
   ]
  },
  {
   "cell_type": "code",
   "execution_count": 46,
   "id": "b74c5ae8-68a0-4198-96db-eecb1e0294e6",
   "metadata": {},
   "outputs": [
    {
     "data": {
      "text/plain": [
       "(4,)"
      ]
     },
     "execution_count": 46,
     "metadata": {},
     "output_type": "execute_result"
    }
   ],
   "source": [
    "np.shape(arr)"
   ]
  },
  {
   "cell_type": "code",
   "execution_count": 47,
   "id": "83bd9f51-94eb-4901-a1e2-09404b4e9942",
   "metadata": {},
   "outputs": [
    {
     "data": {
      "text/plain": [
       "array([0., 0., 0., 0., 0., 0., 0., 0., 0., 0.])"
      ]
     },
     "execution_count": 47,
     "metadata": {},
     "output_type": "execute_result"
    }
   ],
   "source": [
    "np.zeros(10)"
   ]
  },
  {
   "cell_type": "code",
   "execution_count": 48,
   "id": "b8a86010-900b-4918-a50f-70c6d09df0b1",
   "metadata": {},
   "outputs": [
    {
     "data": {
      "text/plain": [
       "array([1., 1., 1., 1., 1., 1., 1., 1., 1., 1.])"
      ]
     },
     "execution_count": 48,
     "metadata": {},
     "output_type": "execute_result"
    }
   ],
   "source": [
    "np.ones(10)"
   ]
  },
  {
   "cell_type": "code",
   "execution_count": 50,
   "id": "dc9cc80e-eedf-4e00-85f7-1d3debfd3288",
   "metadata": {},
   "outputs": [],
   "source": [
    "arr = np.zeros(10)"
   ]
  },
  {
   "cell_type": "code",
   "execution_count": 51,
   "id": "9f8bceaa-5a1d-453c-aa6b-1e5e4e1d85e9",
   "metadata": {},
   "outputs": [
    {
     "data": {
      "text/plain": [
       "array([5., 5., 5., 5., 5., 5., 5., 5., 5., 5.])"
      ]
     },
     "execution_count": 51,
     "metadata": {},
     "output_type": "execute_result"
    }
   ],
   "source": [
    "arr[:] = 5\n",
    "arr"
   ]
  },
  {
   "cell_type": "code",
   "execution_count": 52,
   "id": "a8b8defb-4247-46e6-bffd-6a10ccc8e6d3",
   "metadata": {},
   "outputs": [
    {
     "data": {
      "text/plain": [
       "array([30, 31, 32, 33, 34, 35, 36, 37, 38, 39, 40, 41, 42, 43, 44, 45, 46,\n",
       "       47, 48, 49, 50, 51, 52, 53, 54, 55, 56, 57, 58, 59, 60, 61, 62, 63,\n",
       "       64, 65, 66, 67, 68, 69, 70])"
      ]
     },
     "execution_count": 52,
     "metadata": {},
     "output_type": "execute_result"
    }
   ],
   "source": [
    "np.arange(30,71)"
   ]
  },
  {
   "cell_type": "code",
   "execution_count": 53,
   "id": "79b2ff59-5aba-4214-a5ea-8ff908ed6548",
   "metadata": {},
   "outputs": [
    {
     "data": {
      "text/plain": [
       "array([[1., 0., 0.],\n",
       "       [0., 1., 0.],\n",
       "       [0., 0., 1.]])"
      ]
     },
     "execution_count": 53,
     "metadata": {},
     "output_type": "execute_result"
    }
   ],
   "source": [
    "np.eye(3)"
   ]
  },
  {
   "cell_type": "code",
   "execution_count": 54,
   "id": "244b5769-c026-4e47-a4fb-29ce1af82e61",
   "metadata": {},
   "outputs": [
    {
     "data": {
      "text/plain": [
       "0"
      ]
     },
     "execution_count": 54,
     "metadata": {},
     "output_type": "execute_result"
    }
   ],
   "source": [
    "np.random.randint(0,1)"
   ]
  },
  {
   "cell_type": "code",
   "execution_count": 55,
   "id": "c2e51b81-9891-4194-9691-b88abd348dca",
   "metadata": {},
   "outputs": [
    {
     "data": {
      "text/plain": [
       "array([-0.36753276,  0.33425436, -1.62937034, -0.60115976, -0.44643247,\n",
       "        1.5307943 , -0.19954896, -0.28298201,  0.82549524, -0.75489618,\n",
       "        0.19731829,  0.15636289,  0.92363872, -0.93443872, -0.51208547])"
      ]
     },
     "execution_count": 55,
     "metadata": {},
     "output_type": "execute_result"
    }
   ],
   "source": [
    "np.random.randn(15)"
   ]
  },
  {
   "cell_type": "code",
   "execution_count": 56,
   "id": "cff8842b-1641-46b2-8423-a0efce6d12a6",
   "metadata": {},
   "outputs": [
    {
     "data": {
      "text/plain": [
       "array([15, 16, 17, 18, 19, 20, 21, 22, 23, 24, 25, 26, 27, 28, 29, 30, 31,\n",
       "       32, 33, 34, 35, 36, 37, 38, 39, 40, 41, 42, 43, 44, 45, 46, 47, 48,\n",
       "       49, 50, 51, 52, 53, 54])"
      ]
     },
     "execution_count": 56,
     "metadata": {},
     "output_type": "execute_result"
    }
   ],
   "source": [
    "arr=np.arange(15,55)\n",
    "arr"
   ]
  },
  {
   "cell_type": "code",
   "execution_count": 58,
   "id": "86df7788-719b-4d89-85c0-74002236ba00",
   "metadata": {},
   "outputs": [
    {
     "data": {
      "text/plain": [
       "array([16, 17, 18, 19, 20, 21, 22, 23, 24, 25, 26, 27, 28, 29, 30, 31, 32,\n",
       "       33, 34, 35, 36, 37, 38, 39, 40, 41, 42, 43, 44, 45, 46, 47, 48, 49,\n",
       "       50, 51, 52, 53])"
      ]
     },
     "execution_count": 58,
     "metadata": {},
     "output_type": "execute_result"
    }
   ],
   "source": [
    "arr[1:-1]"
   ]
  },
  {
   "cell_type": "code",
   "execution_count": 60,
   "id": "df5a0834-f8ad-4e7a-99f0-0ce9f8b327cd",
   "metadata": {},
   "outputs": [
    {
     "data": {
      "text/plain": [
       "array([[15.        , 18.63636364, 22.27272727, 25.90909091],\n",
       "       [29.54545455, 33.18181818, 36.81818182, 40.45454545],\n",
       "       [44.09090909, 47.72727273, 51.36363636, 55.        ]])"
      ]
     },
     "execution_count": 60,
     "metadata": {},
     "output_type": "execute_result"
    }
   ],
   "source": [
    "arr = np.linspace(15,55,12)\n",
    "arr.reshape(3,4)"
   ]
  },
  {
   "cell_type": "code",
   "execution_count": 65,
   "id": "8afa55d5-246d-4f2e-aab0-3d38a682000f",
   "metadata": {},
   "outputs": [
    {
     "data": {
      "text/plain": [
       "array([[ 8,  9, 10, 11],\n",
       "       [12, 13, 14, 15],\n",
       "       [16, 17, 18, 19]])"
      ]
     },
     "execution_count": 65,
     "metadata": {},
     "output_type": "execute_result"
    }
   ],
   "source": [
    "arr = np.arange(8,20).reshape((3,4))\n",
    "arr"
   ]
  },
  {
   "cell_type": "code",
   "execution_count": 66,
   "id": "3f8ed983-ea15-48a4-990e-bdf8f15677ef",
   "metadata": {},
   "outputs": [],
   "source": [
    "arr = np.random.randint(10,50,12).reshape((3,4))"
   ]
  },
  {
   "cell_type": "code",
   "execution_count": 67,
   "id": "708bfc12-e33f-44e2-b75f-3339b816a806",
   "metadata": {},
   "outputs": [
    {
     "data": {
      "text/plain": [
       "array([[22, 10, 46, 26],\n",
       "       [26, 10, 33, 46],\n",
       "       [23, 31, 26, 29]])"
      ]
     },
     "execution_count": 67,
     "metadata": {},
     "output_type": "execute_result"
    }
   ],
   "source": [
    "arr"
   ]
  },
  {
   "cell_type": "code",
   "execution_count": 68,
   "id": "b4f5fcd0-7791-4981-9010-8ea76c5426b6",
   "metadata": {},
   "outputs": [],
   "source": [
    "arr = np.linspace(5,50,10)"
   ]
  },
  {
   "cell_type": "code",
   "execution_count": 69,
   "id": "8b8e1308-c9c8-48d3-b671-9f6314224fa9",
   "metadata": {},
   "outputs": [
    {
     "data": {
      "text/plain": [
       "array([ 5., 10., 15., 20., 25., 30., 35., 40., 45., 50.])"
      ]
     },
     "execution_count": 69,
     "metadata": {},
     "output_type": "execute_result"
    }
   ],
   "source": [
    "arr"
   ]
  },
  {
   "cell_type": "code",
   "execution_count": 71,
   "id": "649b454d-cb7c-4daa-8fb6-258111da8e8f",
   "metadata": {},
   "outputs": [
    {
     "data": {
      "text/plain": [
       "array([ 0,  1,  2,  3,  4,  5,  6,  7,  8,  9, 10, 11, 12, 13, 14, 15, 16,\n",
       "       17, 18, 19, 20])"
      ]
     },
     "execution_count": 71,
     "metadata": {},
     "output_type": "execute_result"
    }
   ],
   "source": [
    "arr= np.arange(0,21)\n",
    "arr"
   ]
  },
  {
   "cell_type": "code",
   "execution_count": 72,
   "id": "265a634b-7512-400d-a423-a4e9398e2ce1",
   "metadata": {},
   "outputs": [
    {
     "data": {
      "text/plain": [
       "array([  0,   1,   2,   3,   4,   5,   6,   7,   8,  -9, -10, -11, -12,\n",
       "       -13, -14, -15,  16,  17,  18,  19,  20])"
      ]
     },
     "execution_count": 72,
     "metadata": {},
     "output_type": "execute_result"
    }
   ],
   "source": [
    "arr[(arr>=9)&(arr<=15)] *= -1\n",
    "arr"
   ]
  },
  {
   "cell_type": "code",
   "execution_count": 73,
   "id": "e968ca4f-adfb-477d-8539-632561b65688",
   "metadata": {},
   "outputs": [],
   "source": [
    "arr= np.random.randint(0,10,5)"
   ]
  },
  {
   "cell_type": "code",
   "execution_count": 74,
   "id": "61dea301-bc5e-442d-9416-d97955454431",
   "metadata": {},
   "outputs": [
    {
     "data": {
      "text/plain": [
       "array([1, 8, 9, 2, 3])"
      ]
     },
     "execution_count": 74,
     "metadata": {},
     "output_type": "execute_result"
    }
   ],
   "source": [
    "arr"
   ]
  },
  {
   "cell_type": "code",
   "execution_count": 77,
   "id": "63b352dc-f62b-4bd2-802f-a2e36d54fea4",
   "metadata": {},
   "outputs": [
    {
     "data": {
      "text/plain": [
       "array([0, 1, 2, 3, 4])"
      ]
     },
     "execution_count": 77,
     "metadata": {},
     "output_type": "execute_result"
    }
   ],
   "source": [
    "arr_1 = np.random.randint(5)\n",
    "arr_2 = np.arange(5)\n",
    "arr_1*arr_2"
   ]
  },
  {
   "cell_type": "code",
   "execution_count": 79,
   "id": "6c674253-6d3d-4325-a038-a5654d815086",
   "metadata": {},
   "outputs": [
    {
     "data": {
      "text/plain": [
       "array([20, 45, 42])"
      ]
     },
     "execution_count": 79,
     "metadata": {},
     "output_type": "execute_result"
    }
   ],
   "source": [
    "arr_1= np.array([4,5,6])\n",
    "arr_2= np.array([5,9,7])\n",
    "arr_1*arr_2"
   ]
  },
  {
   "cell_type": "code",
   "execution_count": 80,
   "id": "ecb9032d-bb7f-42a4-8dd1-05952e29c1d5",
   "metadata": {},
   "outputs": [
    {
     "data": {
      "text/plain": [
       "array([[10, 11, 12, 13],\n",
       "       [14, 15, 16, 17],\n",
       "       [18, 19, 20, 21]])"
      ]
     },
     "execution_count": 80,
     "metadata": {},
     "output_type": "execute_result"
    }
   ],
   "source": [
    "arr= np.arange(10,22).reshape((3,4))\n",
    "arr"
   ]
  },
  {
   "cell_type": "code",
   "execution_count": 81,
   "id": "d203c894-fc1a-43d0-9655-2bb608498d21",
   "metadata": {},
   "outputs": [
    {
     "data": {
      "text/plain": [
       "(3, 4)"
      ]
     },
     "execution_count": 81,
     "metadata": {},
     "output_type": "execute_result"
    }
   ],
   "source": [
    "np.shape(arr)"
   ]
  },
  {
   "cell_type": "code",
   "execution_count": 82,
   "id": "f06ac796-d876-4645-b14f-98a3ca562bf0",
   "metadata": {},
   "outputs": [
    {
     "data": {
      "text/plain": [
       "array([[1., 0., 0.],\n",
       "       [0., 1., 0.],\n",
       "       [0., 0., 1.]])"
      ]
     },
     "execution_count": 82,
     "metadata": {},
     "output_type": "execute_result"
    }
   ],
   "source": [
    "np.eye(3)"
   ]
  },
  {
   "cell_type": "code",
   "execution_count": 213,
   "id": "3d717efa-2460-424b-a3e6-60bcfa2c3849",
   "metadata": {},
   "outputs": [
    {
     "data": {
      "text/plain": [
       "array([[  1,   2,   3,   4,   5,   6,   7,   8,   9,  10],\n",
       "       [ 11,  12,  13,  14,  15,  16,  17,  18,  19,  20],\n",
       "       [ 21,  22,  23,  24,  25,  26,  27,  28,  29,  30],\n",
       "       [ 31,  32,  33,  34,  35,  36,  37,  38,  39,  40],\n",
       "       [ 41,  42,  43,  44,  45,  46,  47,  48,  49,  50],\n",
       "       [ 51,  52,  53,  54,  55,  56,  57,  58,  59,  60],\n",
       "       [ 61,  62,  63,  64,  65,  66,  67,  68,  69,  70],\n",
       "       [ 71,  72,  73,  74,  75,  76,  77,  78,  79,  80],\n",
       "       [ 81,  82,  83,  84,  85,  86,  87,  88,  89,  90],\n",
       "       [ 91,  92,  93,  94,  95,  96,  97,  98,  99, 100]])"
      ]
     },
     "execution_count": 213,
     "metadata": {},
     "output_type": "execute_result"
    }
   ],
   "source": [
    "arr= np.arange(1,101).reshape((10,10))\n",
    "arr"
   ]
  },
  {
   "cell_type": "code",
   "execution_count": 279,
   "id": "575d1be8-5284-4849-9cd6-6d4d39e79ed2",
   "metadata": {
    "scrolled": true
   },
   "outputs": [
    {
     "data": {
      "text/plain": [
       "array([[1., 1., 1., 1., 1., 1., 1., 1., 1., 1.],\n",
       "       [1., 0., 0., 0., 0., 0., 0., 0., 0., 1.],\n",
       "       [1., 0., 0., 0., 0., 0., 0., 0., 0., 1.],\n",
       "       [1., 0., 0., 0., 0., 0., 0., 0., 0., 1.],\n",
       "       [1., 0., 0., 0., 0., 0., 0., 0., 0., 1.],\n",
       "       [1., 0., 0., 0., 0., 0., 0., 0., 0., 1.],\n",
       "       [1., 0., 0., 0., 0., 0., 0., 0., 0., 1.],\n",
       "       [1., 0., 0., 0., 0., 0., 0., 0., 0., 1.],\n",
       "       [1., 0., 0., 0., 0., 0., 0., 0., 0., 1.],\n",
       "       [1., 1., 1., 1., 1., 1., 1., 1., 1., 1.]])"
      ]
     },
     "execution_count": 279,
     "metadata": {},
     "output_type": "execute_result"
    }
   ],
   "source": [
    "arr= np.ones((10,10))\n",
    "arr[1:-1,1:-1]=0\n",
    "arr"
   ]
  },
  {
   "cell_type": "code",
   "execution_count": 280,
   "id": "2b1df9bd-1368-45e8-a6ca-9090ffdabb1e",
   "metadata": {},
   "outputs": [
    {
     "data": {
      "text/plain": [
       "100"
      ]
     },
     "execution_count": 280,
     "metadata": {},
     "output_type": "execute_result"
    }
   ],
   "source": [
    "arr.size"
   ]
  },
  {
   "cell_type": "code",
   "execution_count": 281,
   "id": "3a7d0ae3-5a09-437d-9a90-b6ca60753a0a",
   "metadata": {},
   "outputs": [
    {
     "data": {
      "text/plain": [
       "array([[1., 0., 0., 0., 0.],\n",
       "       [0., 2., 0., 0., 0.],\n",
       "       [0., 0., 3., 0., 0.],\n",
       "       [0., 0., 0., 4., 0.],\n",
       "       [0., 0., 0., 0., 5.]])"
      ]
     },
     "execution_count": 281,
     "metadata": {},
     "output_type": "execute_result"
    }
   ],
   "source": [
    "arr = np.zeros(25).reshape(5,5)\n",
    "arr[0][0]=1\n",
    "arr[1][1]=2\n",
    "arr[2][2]=3\n",
    "arr[3][3]=4\n",
    "arr[4][4]=5\n",
    "arr\n",
    "\n"
   ]
  },
  {
   "cell_type": "code",
   "execution_count": 282,
   "id": "6dc25201-ad33-49bb-b321-9b232411374e",
   "metadata": {},
   "outputs": [
    {
     "data": {
      "text/plain": [
       "array([[[0.90511622, 0.41705151, 0.17345449],\n",
       "        [0.0320087 , 0.92783115, 0.00809426],\n",
       "        [0.39468203, 0.19316802, 0.29890091]],\n",
       "\n",
       "       [[0.93237881, 0.73760769, 0.44599259],\n",
       "        [0.80338135, 0.04969052, 0.15603656],\n",
       "        [0.72225058, 0.49198334, 0.94419839]],\n",
       "\n",
       "       [[0.24221636, 0.26339558, 0.99019964],\n",
       "        [0.16022599, 0.14347302, 0.19120145],\n",
       "        [0.41722695, 0.10740919, 0.17204837]]])"
      ]
     },
     "execution_count": 282,
     "metadata": {},
     "output_type": "execute_result"
    }
   ],
   "source": [
    "arr = np.random.random((3,3,3))\n",
    "arr"
   ]
  },
  {
   "cell_type": "code",
   "execution_count": 283,
   "id": "5ee50c08-4f16-4a2d-884b-c6375e4fdd5e",
   "metadata": {},
   "outputs": [
    {
     "name": "stdout",
     "output_type": "stream",
     "text": [
      "[0 1 2 3 4]\n",
      "[0 1 2 3 4]\n"
     ]
    },
    {
     "data": {
      "text/plain": [
       "30"
      ]
     },
     "execution_count": 283,
     "metadata": {},
     "output_type": "execute_result"
    }
   ],
   "source": [
    "a = np.arange(5)\n",
    "b = np.arange(5)\n",
    "print(a)\n",
    "print(b)\n",
    "np.inner(a,b)"
   ]
  },
  {
   "cell_type": "code",
   "execution_count": 284,
   "id": "fa709ef7-751a-4668-9ceb-82105754f36a",
   "metadata": {},
   "outputs": [
    {
     "data": {
      "text/plain": [
       "array([[10,  2, 17,  1, 21],\n",
       "       [12, 13,  0,  6, 11],\n",
       "       [ 5, 24, 24,  8,  3],\n",
       "       [18, 15, 17,  3,  0],\n",
       "       [18,  8, 23,  1, 14]])"
      ]
     },
     "execution_count": 284,
     "metadata": {},
     "output_type": "execute_result"
    }
   ],
   "source": [
    "arr = np.random.randint(0,25,25)\n",
    "arr = arr.reshape(5,5)\n",
    "arr"
   ]
  },
  {
   "cell_type": "code",
   "execution_count": 285,
   "id": "e5391d6a-d5fa-4b2b-840a-b7c1b16c07c0",
   "metadata": {},
   "outputs": [
    {
     "data": {
      "text/plain": [
       "array([[ 5,  2,  0,  1,  0],\n",
       "       [10,  8, 17,  1,  3],\n",
       "       [12, 13, 17,  3, 11],\n",
       "       [18, 15, 23,  6, 14],\n",
       "       [18, 24, 24,  8, 21]])"
      ]
     },
     "execution_count": 285,
     "metadata": {},
     "output_type": "execute_result"
    }
   ],
   "source": [
    "arr1 = np.sort(arr,axis=0)\n",
    "arr1"
   ]
  },
  {
   "cell_type": "code",
   "execution_count": 286,
   "id": "dadd56ae-6344-4f4e-8382-00bf7bcacbb2",
   "metadata": {},
   "outputs": [
    {
     "data": {
      "text/plain": [
       "array([[ 0,  0,  1,  2,  5],\n",
       "       [ 1,  3,  8, 10, 17],\n",
       "       [ 3, 11, 12, 13, 17],\n",
       "       [ 6, 14, 15, 18, 23],\n",
       "       [ 8, 18, 21, 24, 24]])"
      ]
     },
     "execution_count": 286,
     "metadata": {},
     "output_type": "execute_result"
    }
   ],
   "source": [
    "arr2 = np.sort(arr1,axis = 1)\n",
    "arr2"
   ]
  },
  {
   "cell_type": "code",
   "execution_count": 287,
   "id": "66d286e3-fcbd-47f2-a670-f8c04f7112b8",
   "metadata": {},
   "outputs": [
    {
     "data": {
      "text/plain": [
       "array([ 1,  2,  2,  4,  6, 98])"
      ]
     },
     "execution_count": 287,
     "metadata": {},
     "output_type": "execute_result"
    }
   ],
   "source": [
    "arr = np.array([2,4,6,1,2,98])\n",
    "arr.sort()\n",
    "arr"
   ]
  },
  {
   "cell_type": "code",
   "execution_count": 288,
   "id": "f67c0733-d689-43ae-92ce-5b9cd46993a2",
   "metadata": {},
   "outputs": [
    {
     "data": {
      "text/plain": [
       "array([ 6, 98])"
      ]
     },
     "execution_count": 288,
     "metadata": {},
     "output_type": "execute_result"
    }
   ],
   "source": [
    "arr[arr>5]"
   ]
  },
  {
   "cell_type": "code",
   "execution_count": 289,
   "id": "42a3e715-2265-4951-912e-ea8a1c01dfde",
   "metadata": {},
   "outputs": [
    {
     "data": {
      "text/plain": [
       "array([1, 2, 2, 0, 0, 0])"
      ]
     },
     "execution_count": 289,
     "metadata": {},
     "output_type": "execute_result"
    }
   ],
   "source": [
    "\n",
    "arr[arr>3] = 0\n",
    "arr"
   ]
  },
  {
   "cell_type": "code",
   "execution_count": 290,
   "id": "d5cde892-133b-4d52-a78a-3ab5fde45361",
   "metadata": {},
   "outputs": [
    {
     "data": {
      "text/plain": [
       "dtype('int32')"
      ]
     },
     "execution_count": 290,
     "metadata": {},
     "output_type": "execute_result"
    }
   ],
   "source": [
    "arr.dtype"
   ]
  },
  {
   "cell_type": "code",
   "execution_count": 291,
   "id": "948987a8-e872-4809-9866-b01d93b1ac8d",
   "metadata": {},
   "outputs": [
    {
     "data": {
      "text/plain": [
       "1"
      ]
     },
     "execution_count": 291,
     "metadata": {},
     "output_type": "execute_result"
    }
   ],
   "source": [
    "arr.ndim"
   ]
  },
  {
   "cell_type": "code",
   "execution_count": 292,
   "id": "47787eb9-6a74-4caa-95f0-dc4f0f332f2b",
   "metadata": {},
   "outputs": [
    {
     "data": {
      "text/plain": [
       "6"
      ]
     },
     "execution_count": 292,
     "metadata": {},
     "output_type": "execute_result"
    }
   ],
   "source": [
    "arr.size"
   ]
  },
  {
   "cell_type": "code",
   "execution_count": 293,
   "id": "c7059685-ac3c-4f2f-a9d3-9e8e51248732",
   "metadata": {},
   "outputs": [
    {
     "data": {
      "text/plain": [
       "(6,)"
      ]
     },
     "execution_count": 293,
     "metadata": {},
     "output_type": "execute_result"
    }
   ],
   "source": [
    "arr.shape"
   ]
  },
  {
   "cell_type": "code",
   "execution_count": 294,
   "id": "06a3010c-0ee7-4d23-9498-3c27bac8429a",
   "metadata": {},
   "outputs": [
    {
     "data": {
      "text/plain": [
       "array([[ 2,  3,  4],\n",
       "       [ 5,  6,  7],\n",
       "       [ 8,  9, 10]])"
      ]
     },
     "execution_count": 294,
     "metadata": {},
     "output_type": "execute_result"
    }
   ],
   "source": [
    "arr= np.arange(2,11).reshape(3,3)\n",
    "arr\n"
   ]
  },
  {
   "cell_type": "code",
   "execution_count": 295,
   "id": "a65a0b02-df62-4dd8-9f27-551d68e81f2d",
   "metadata": {},
   "outputs": [
    {
     "data": {
      "text/plain": [
       "array([[    0,     1,     0],\n",
       "       [  524,  1540,     0],\n",
       "       [  768, 32767,     0]])"
      ]
     },
     "execution_count": 295,
     "metadata": {},
     "output_type": "execute_result"
    }
   ],
   "source": [
    "np.empty_like(arr)"
   ]
  },
  {
   "cell_type": "code",
   "execution_count": 296,
   "id": "14f62e4a-7955-464a-8c01-1a2a311396c0",
   "metadata": {},
   "outputs": [
    {
     "data": {
      "text/plain": [
       "array([[0, 0, 0],\n",
       "       [0, 0, 0],\n",
       "       [0, 0, 0]])"
      ]
     },
     "execution_count": 296,
     "metadata": {},
     "output_type": "execute_result"
    }
   ],
   "source": [
    "np.zeros_like(arr)"
   ]
  },
  {
   "cell_type": "code",
   "execution_count": 297,
   "id": "4d06c94b-0ae3-4df5-b964-fee913602a74",
   "metadata": {},
   "outputs": [
    {
     "data": {
      "text/plain": [
       "array([[[0.24201241, 0.88717187, 0.94372199, 0.10143079],\n",
       "        [0.08032823, 0.49109477, 0.10407915, 0.50228971],\n",
       "        [0.39008991, 0.30686731, 0.44806078, 0.82229065],\n",
       "        [0.58703498, 0.301348  , 0.09019483, 0.31304976],\n",
       "        [0.98126164, 0.40017112, 0.06694841, 0.70338084]],\n",
       "\n",
       "       [[0.05223312, 0.17512852, 0.9981172 , 0.02123021],\n",
       "        [0.8252574 , 0.35983108, 0.61750671, 0.32342511],\n",
       "        [0.05567909, 0.67254671, 0.87151849, 0.61665464],\n",
       "        [0.93919372, 0.07363179, 0.43487081, 0.31494572],\n",
       "        [0.34258002, 0.2536401 , 0.17542476, 0.7067078 ]],\n",
       "\n",
       "       [[0.25972233, 0.58871156, 0.73380661, 0.30561563],\n",
       "        [0.09633534, 0.38476402, 0.41773216, 0.21943888],\n",
       "        [0.18630266, 0.11196702, 0.34628414, 0.57038953],\n",
       "        [0.70539886, 0.60985309, 0.87614671, 0.96892498],\n",
       "        [0.11959734, 0.28869303, 0.78982916, 0.49775706]]])"
      ]
     },
     "execution_count": 297,
     "metadata": {},
     "output_type": "execute_result"
    }
   ],
   "source": [
    "arr= np.random.random((3,5,4))\n",
    "arr"
   ]
  }
 ],
 "metadata": {
  "kernelspec": {
   "display_name": "Python 3 (ipykernel)",
   "language": "python",
   "name": "python3"
  },
  "language_info": {
   "codemirror_mode": {
    "name": "ipython",
    "version": 3
   },
   "file_extension": ".py",
   "mimetype": "text/x-python",
   "name": "python",
   "nbconvert_exporter": "python",
   "pygments_lexer": "ipython3",
   "version": "3.12.4"
  }
 },
 "nbformat": 4,
 "nbformat_minor": 5
}
