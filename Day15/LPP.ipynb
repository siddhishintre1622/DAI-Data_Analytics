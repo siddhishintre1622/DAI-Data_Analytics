{
 "cells": [
  {
   "cell_type": "code",
   "execution_count": 7,
   "id": "e1733780-200f-4de8-b0ed-80cc09e12d24",
   "metadata": {},
   "outputs": [],
   "source": [
    "from pulp import *"
   ]
  },
  {
   "cell_type": "code",
   "execution_count": 8,
   "id": "f5866f74-941f-4eeb-b394-28fd70792896",
   "metadata": {},
   "outputs": [
    {
     "name": "stdout",
     "output_type": "stream",
     "text": [
      "Requirement already satisfied: pulp in c:\\anaconda-install\\lib\\site-packages (2.9.0)\n"
     ]
    }
   ],
   "source": [
    "!pip install pulp"
   ]
  },
  {
   "cell_type": "code",
   "execution_count": 9,
   "id": "62ceb694-04af-404a-9ad9-e3488a209af1",
   "metadata": {},
   "outputs": [],
   "source": [
    "model = LpProblem(\"CarProductionProblem\",LpMaximize)"
   ]
  },
  {
   "cell_type": "code",
   "execution_count": 10,
   "id": "41efcc55-6075-490e-9122-cbb35554a725",
   "metadata": {},
   "outputs": [],
   "source": [
    "car_A = LpVariable(\"A\",0,None,LpInteger)\n",
    "car_B = LpVariable(\"B\",0,None,LpInteger)"
   ]
  },
  {
   "cell_type": "code",
   "execution_count": 11,
   "id": "1819a583-7d6f-4ca8-b383-39dd1f2521b7",
   "metadata": {},
   "outputs": [],
   "source": [
    "model += 30000*car_A + 45000*car_B, \"profit\""
   ]
  },
  {
   "cell_type": "code",
   "execution_count": 12,
   "id": "7ef4ece2-f462-4a7e-b4e5-dd666b28c2dc",
   "metadata": {},
   "outputs": [],
   "source": [
    "model += 3* car_A + 4*car_B <=30 ,\"Material Constraint 1\"\n",
    "model += 5* car_A + 6*car_B <=60 ,\"Material Constraint 2\"\n",
    "model += 1.5* car_A + 3*car_B <=21 ,\"Labour Constraint \""
   ]
  },
  {
   "cell_type": "code",
   "execution_count": 13,
   "id": "249c2775-078b-4054-93d8-87e658091f42",
   "metadata": {},
   "outputs": [],
   "source": [
    "model += car_A >=5,\"Minimum A Production\""
   ]
  },
  {
   "cell_type": "code",
   "execution_count": 14,
   "id": "5dfb3cad-e9ba-44c5-9172-3676c8037ccf",
   "metadata": {},
   "outputs": [
    {
     "data": {
      "text/plain": [
       "1"
      ]
     },
     "execution_count": 14,
     "metadata": {},
     "output_type": "execute_result"
    }
   ],
   "source": [
    "model.solve()"
   ]
  },
  {
   "cell_type": "code",
   "execution_count": 15,
   "id": "5d79bee1-ce45-4452-a820-23d4bd026279",
   "metadata": {},
   "outputs": [
    {
     "name": "stdout",
     "output_type": "stream",
     "text": [
      "A = 6.0\n",
      "B = 3.0\n"
     ]
    }
   ],
   "source": [
    "for v in model.variables():\n",
    "    print(v.name,\"=\",v.varValue)"
   ]
  },
  {
   "cell_type": "code",
   "execution_count": 16,
   "id": "25898b4a-88a5-4858-bd44-729fd21234ff",
   "metadata": {},
   "outputs": [
    {
     "name": "stdout",
     "output_type": "stream",
     "text": [
      "Total Profit :  315000.0\n"
     ]
    }
   ],
   "source": [
    "print(\"Total Profit : \",value(model.objective))"
   ]
  }
 ],
 "metadata": {
  "kernelspec": {
   "display_name": "Python 3 (ipykernel)",
   "language": "python",
   "name": "python3"
  },
  "language_info": {
   "codemirror_mode": {
    "name": "ipython",
    "version": 3
   },
   "file_extension": ".py",
   "mimetype": "text/x-python",
   "name": "python",
   "nbconvert_exporter": "python",
   "pygments_lexer": "ipython3",
   "version": "3.12.4"
  }
 },
 "nbformat": 4,
 "nbformat_minor": 5
}
