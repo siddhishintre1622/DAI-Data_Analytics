{
 "cells": [
  {
   "cell_type": "code",
   "execution_count": 2,
   "id": "4396f49c-8293-4566-9b95-6acb67e9802f",
   "metadata": {},
   "outputs": [],
   "source": [
    "from pandas import read_csv, crosstab\n",
    "from scipy.stats import chi2_contingency"
   ]
  },
  {
   "cell_type": "code",
   "execution_count": 4,
   "id": "4ecedcd5-5327-4027-8f3d-f07b570db0ff",
   "metadata": {},
   "outputs": [],
   "source": [
    "df= read_csv(\"airline_passenger_satisfaction.csv\")\n",
    "male_df= df[df[\"Gender\"] == \"Male\"] #Filter by Gender"
   ]
  },
  {
   "cell_type": "code",
   "execution_count": 5,
   "id": "4cd3e0a3-64c5-4590-96ad-e2b0980dc256",
   "metadata": {},
   "outputs": [],
   "source": [
    "#analyse On-board Service and Class (Independence Test - male Passengers)\n",
    "category1= \"Class\"\n",
    "category2= \"On-board Service\""
   ]
  },
  {
   "cell_type": "code",
   "execution_count": 6,
   "id": "2b46adcc-fcb3-4719-ab6f-bb9f7dc7aa06",
   "metadata": {},
   "outputs": [],
   "source": [
    "#Create contingency table\n",
    "crosstab = crosstab(male_df[category1], male_df[category2])"
   ]
  },
  {
   "cell_type": "code",
   "execution_count": 7,
   "id": "5091a465-c384-449a-aa28-38c84d45d74a",
   "metadata": {},
   "outputs": [],
   "source": [
    "#Perform chi-square test\n",
    "chi2, pval, degrees_of_freedom, expected_cponts = chi2_contingency(crosstab)"
   ]
  },
  {
   "cell_type": "code",
   "execution_count": 10,
   "id": "76d4a3c8-926b-401c-9522-26a56ff82380",
   "metadata": {},
   "outputs": [
    {
     "name": "stdout",
     "output_type": "stream",
     "text": [
      "\n",
      "Category 1: Class, Category 2: On-board Service (Male Passengers)\n",
      "On-board Service  0     1     2     3      4     5\n",
      "Class                                             \n",
      "Business          2  2053  3379  5826  10743  8894\n",
      "Economy           0  4420  4430  7403   7535  4851\n",
      "Economy Plus      0   791   792  1118   1076   668\n",
      "Chi-square : 3277.66, p-value: 0.0000, Degrees of Freedom: 10\n"
     ]
    }
   ],
   "source": [
    "#Print results\n",
    "print(f\"\\nCategory 1: {category1}, Category 2: {category2} (Male Passengers)\")\n",
    "print(crosstab)\n",
    "print(f\"Chi-square : {chi2:.2f}, p-value: {pval:.4f}, Degrees of Freedom: {degrees_of_freedom}\")"
   ]
  },
  {
   "cell_type": "code",
   "execution_count": 12,
   "id": "a6e039be-4911-4029-b362-11b19dc52493",
   "metadata": {},
   "outputs": [
    {
     "name": "stdout",
     "output_type": "stream",
     "text": [
      "Reject null hypothesis: There's a significant association between classs and on-board service rating(p < 0.05).\n"
     ]
    }
   ],
   "source": [
    "#Interpretation\n",
    "if pval < 0.05:\n",
    "    print(\"Reject null hypothesis: There's a significant association between classs and on-board service rating(p < 0.05).\")\n",
    "else:\n",
    "    print(\"Fail to reject null hypothesis: Class and on-board service rating might be independent (p>0.05).\")"
   ]
  },
  {
   "cell_type": "code",
   "execution_count": null,
   "id": "7c795a07-ca60-473e-be98-6fdc7dda818a",
   "metadata": {},
   "outputs": [],
   "source": []
  }
 ],
 "metadata": {
  "kernelspec": {
   "display_name": "Python 3 (ipykernel)",
   "language": "python",
   "name": "python3"
  },
  "language_info": {
   "codemirror_mode": {
    "name": "ipython",
    "version": 3
   },
   "file_extension": ".py",
   "mimetype": "text/x-python",
   "name": "python",
   "nbconvert_exporter": "python",
   "pygments_lexer": "ipython3",
   "version": "3.12.4"
  }
 },
 "nbformat": 4,
 "nbformat_minor": 5
}
