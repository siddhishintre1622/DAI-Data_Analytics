{
 "cells": [
  {
   "cell_type": "code",
   "execution_count": 1,
   "id": "ac296b80-3ab4-4458-8705-b321d41b8ddd",
   "metadata": {},
   "outputs": [],
   "source": [
    "import pandas as pd\n",
    "import numpy as np"
   ]
  },
  {
   "cell_type": "code",
   "execution_count": 2,
   "id": "054d1ee6-6c74-4a7f-ba1a-de4934e9223a",
   "metadata": {},
   "outputs": [
    {
     "data": {
      "text/plain": [
       "0    1\n",
       "1    2\n",
       "2    3\n",
       "3    4\n",
       "4    5\n",
       "dtype: int64"
      ]
     },
     "execution_count": 2,
     "metadata": {},
     "output_type": "execute_result"
    }
   ],
   "source": [
    "ds= pd.Series([1,2,3,4,5])\n",
    "ds"
   ]
  },
  {
   "cell_type": "code",
   "execution_count": 3,
   "id": "49f60d64-5e7f-4cad-b422-1149e7c9f50b",
   "metadata": {},
   "outputs": [
    {
     "data": {
      "text/plain": [
       "[1, 2, 3, 4, 5]"
      ]
     },
     "execution_count": 3,
     "metadata": {},
     "output_type": "execute_result"
    }
   ],
   "source": [
    "lst = ds.to_list()\n",
    "lst"
   ]
  },
  {
   "cell_type": "code",
   "execution_count": 4,
   "id": "04687746-36e5-413d-8c38-4e2f2829a61f",
   "metadata": {},
   "outputs": [
    {
     "data": {
      "text/plain": [
       "0     3\n",
       "1     7\n",
       "2    11\n",
       "3    15\n",
       "4    19\n",
       "dtype: int64"
      ]
     },
     "execution_count": 4,
     "metadata": {},
     "output_type": "execute_result"
    }
   ],
   "source": [
    "a = pd.Series([2, 4, 6, 8, 10])\n",
    "b  = pd.Series([1, 3, 5, 7, 9])\n",
    "a.add(b)"
   ]
  },
  {
   "cell_type": "code",
   "execution_count": 5,
   "id": "e9c34942-40da-4913-b569-e66eea25867b",
   "metadata": {},
   "outputs": [
    {
     "data": {
      "text/plain": [
       "0    1\n",
       "1    1\n",
       "2    1\n",
       "3    1\n",
       "4    1\n",
       "dtype: int64"
      ]
     },
     "execution_count": 5,
     "metadata": {},
     "output_type": "execute_result"
    }
   ],
   "source": [
    "a = pd.Series([2, 4, 6, 8, 10])\n",
    "b  = pd.Series([1, 3, 5, 7, 9])\n",
    "a.sub(b)"
   ]
  },
  {
   "cell_type": "code",
   "execution_count": 6,
   "id": "ac16bb2c-412e-4051-a5bd-dfe332cba863",
   "metadata": {},
   "outputs": [
    {
     "data": {
      "text/plain": [
       "0     2\n",
       "1    12\n",
       "2    30\n",
       "3    56\n",
       "4    90\n",
       "dtype: int64"
      ]
     },
     "execution_count": 6,
     "metadata": {},
     "output_type": "execute_result"
    }
   ],
   "source": [
    "a = pd.Series([2, 4, 6, 8, 10])\n",
    "b  = pd.Series([1, 3, 5, 7, 9])\n",
    "a.mul(b)"
   ]
  },
  {
   "cell_type": "code",
   "execution_count": 7,
   "id": "28962c1c-d4ab-43d7-a862-7e3f5be3a388",
   "metadata": {},
   "outputs": [
    {
     "data": {
      "text/plain": [
       "0    2.000000\n",
       "1    1.333333\n",
       "2    1.200000\n",
       "3    1.142857\n",
       "4    1.111111\n",
       "dtype: float64"
      ]
     },
     "execution_count": 7,
     "metadata": {},
     "output_type": "execute_result"
    }
   ],
   "source": [
    "a = pd.Series([2, 4, 6, 8, 10])\n",
    "b  = pd.Series([1, 3, 5, 7, 9])\n",
    "a.div(b)"
   ]
  },
  {
   "cell_type": "code",
   "execution_count": 8,
   "id": "4ac546d7-62d6-4ef5-a1fb-8e194588cb5d",
   "metadata": {},
   "outputs": [
    {
     "data": {
      "text/plain": [
       "0    False\n",
       "1    False\n",
       "2    False\n",
       "3    False\n",
       "4     True\n",
       "dtype: bool"
      ]
     },
     "execution_count": 8,
     "metadata": {},
     "output_type": "execute_result"
    }
   ],
   "source": [
    "a1=  pd.Series([2, 4, 6, 8, 10])\n",
    "a2= pd.Series([1, 3, 5, 7, 10])\n",
    "a1==a2"
   ]
  },
  {
   "cell_type": "code",
   "execution_count": 9,
   "id": "258e4e4b-9f78-445f-8232-5bfebbb97676",
   "metadata": {},
   "outputs": [
    {
     "data": {
      "text/plain": [
       "a    100\n",
       "b    200\n",
       "c    300\n",
       "d    400\n",
       "e    800\n",
       "dtype: int64"
      ]
     },
     "execution_count": 9,
     "metadata": {},
     "output_type": "execute_result"
    }
   ],
   "source": [
    "d= {'a': 100, 'b': 200, 'c': 300, 'd': 400, 'e': 800}\n",
    "df = pd.Series(d)\n",
    "df\n"
   ]
  },
  {
   "cell_type": "code",
   "execution_count": 10,
   "id": "78bad78b-5c05-4d3d-bc37-997e51ce52a4",
   "metadata": {},
   "outputs": [
    {
     "data": {
      "text/plain": [
       "0    10\n",
       "1    20\n",
       "2    30\n",
       "3    40\n",
       "4    50\n",
       "dtype: int32"
      ]
     },
     "execution_count": 10,
     "metadata": {},
     "output_type": "execute_result"
    }
   ],
   "source": [
    "arr  = np.array([10, 20, 30, 40, 50])\n",
    "ds = pd.Series(arr)\n",
    "ds"
   ]
  },
  {
   "cell_type": "code",
   "execution_count": 11,
   "id": "740b3543-0336-4a2e-8852-4a1fdfe0b26a",
   "metadata": {},
   "outputs": [
    {
     "data": {
      "text/plain": [
       "0    100.00\n",
       "1    200.00\n",
       "2       NaN\n",
       "3    300.12\n",
       "4    400.00\n",
       "dtype: float64"
      ]
     },
     "execution_count": 11,
     "metadata": {},
     "output_type": "execute_result"
    }
   ],
   "source": [
    "ds = pd.Series([100, 200, \"python\", 300.12, 400])\n",
    "ds = pd.to_numeric(ds, errors = 'coerce')\n",
    "ds"
   ]
  },
  {
   "cell_type": "code",
   "execution_count": 12,
   "id": "4c42ae8c-143a-41f7-8be3-4721b995441f",
   "metadata": {},
   "outputs": [
    {
     "data": {
      "text/plain": [
       "0     1\n",
       "1     2\n",
       "2     3\n",
       "3     4\n",
       "4     7\n",
       "5    11\n",
       "Name: col1, dtype: int64"
      ]
     },
     "execution_count": 12,
     "metadata": {},
     "output_type": "execute_result"
    }
   ],
   "source": [
    "data= {'col1' : [1,2,3,4,7,11], 'col2' : [4,5,6,9,5,0], 'col3' : [7,5,8,12,1,11]}\n",
    "df= pd.DataFrame(data)\n",
    "pd.Series(df['col1'])\n"
   ]
  },
  {
   "cell_type": "code",
   "execution_count": 13,
   "id": "e57c509e-55e8-4b8a-991c-deeb821aabe1",
   "metadata": {},
   "outputs": [
    {
     "data": {
      "text/plain": [
       "array([100, 200, 'python', 300.12, 400], dtype=object)"
      ]
     },
     "execution_count": 13,
     "metadata": {},
     "output_type": "execute_result"
    }
   ],
   "source": [
    "ds = pd.Series([100, 200, \"python\", 300.12, 400])\n",
    "a= ds.values\n",
    "a"
   ]
  },
  {
   "cell_type": "code",
   "execution_count": 14,
   "id": "e180ac5f-a66f-4035-8b4f-73aa614fb23a",
   "metadata": {},
   "outputs": [
    {
     "data": {
      "text/plain": [
       "0       Red\n",
       "1     Green\n",
       "2     White\n",
       "3       Red\n",
       "4     Black\n",
       "5    Yellow\n",
       "dtype: object"
      ]
     },
     "execution_count": 14,
     "metadata": {},
     "output_type": "execute_result"
    }
   ],
   "source": [
    "data= pd.Series([['Red', 'Green', 'White'], ['Red', 'Black'], ['Yellow']])\n",
    "ds= data.apply(pd.Series).stack().reset_index(drop=True)\n",
    "ds"
   ]
  },
  {
   "cell_type": "code",
   "execution_count": 15,
   "id": "4b99f060-49f5-4cac-98dd-c618267df53e",
   "metadata": {},
   "outputs": [
    {
     "data": {
      "text/plain": [
       "0       100\n",
       "1       200\n",
       "3    300.12\n",
       "4       400\n",
       "2    python\n",
       "dtype: object"
      ]
     },
     "execution_count": 15,
     "metadata": {},
     "output_type": "execute_result"
    }
   ],
   "source": [
    "ds = pd.Series(['100', '200', 'python', '300.12', '400'])\n",
    "new_ds=pd.Series(ds).sort_values()\n",
    "new_ds\n"
   ]
  },
  {
   "cell_type": "code",
   "execution_count": 16,
   "id": "9e2d7dd6-c2c3-4181-b9d6-7646b5dcb10e",
   "metadata": {},
   "outputs": [
    {
     "data": {
      "text/plain": [
       "0       100\n",
       "1       200\n",
       "2    python\n",
       "3    300.12\n",
       "4       400\n",
       "5       500\n",
       "6       php\n",
       "dtype: object"
      ]
     },
     "execution_count": 16,
     "metadata": {},
     "output_type": "execute_result"
    }
   ],
   "source": [
    "ds = pd.Series(['100', '200', 'python', '300.12', '400'])\n",
    "new_ds= pd.concat([ds,pd.Series([500, \"php\"])], ignore_index=True)\n",
    "new_ds"
   ]
  },
  {
   "cell_type": "code",
   "execution_count": 17,
   "id": "996599e3-3d51-43a4-9f32-3594303b1576",
   "metadata": {},
   "outputs": [
    {
     "data": {
      "text/plain": [
       "0    0\n",
       "1    1\n",
       "2    2\n",
       "3    3\n",
       "4    4\n",
       "5    5\n",
       "dtype: int64"
      ]
     },
     "execution_count": 17,
     "metadata": {},
     "output_type": "execute_result"
    }
   ],
   "source": [
    "ds= pd.Series([0,1,2,3,4,5,6,7,8,9,10])\n",
    "new_ds= ds[ds<6]\n",
    "new_ds"
   ]
  },
  {
   "cell_type": "code",
   "execution_count": 18,
   "id": "cfa75572-ce1a-43ed-90c2-a14f2b2652b3",
   "metadata": {},
   "outputs": [
    {
     "data": {
      "text/plain": [
       "B    2\n",
       "A    1\n",
       "C    3\n",
       "D    4\n",
       "E    5\n",
       "dtype: int64"
      ]
     },
     "execution_count": 18,
     "metadata": {},
     "output_type": "execute_result"
    }
   ],
   "source": [
    "ds = pd.Series(data = [1,2,3,4,5], index= ['A','B','C','D','E'])\n",
    "new_ds = ds.reindex(index= ['B', 'A','C','D','E'])\n",
    "new_ds"
   ]
  },
  {
   "cell_type": "code",
   "execution_count": 19,
   "id": "317fd3ca-76af-436c-801b-d26c3c756574",
   "metadata": {},
   "outputs": [
    {
     "name": "stdout",
     "output_type": "stream",
     "text": [
      "Mean of the said Data Series: \n"
     ]
    },
    {
     "data": {
      "text/plain": [
       "4.818181818181818"
      ]
     },
     "execution_count": 19,
     "metadata": {},
     "output_type": "execute_result"
    }
   ],
   "source": [
    "ds= pd.Series([1,2,3,4,5,6,7,8,9,5,3])\n",
    "ds\n",
    "print(\"Mean of the said Data Series: \")\n",
    "ds.mean()\n"
   ]
  },
  {
   "cell_type": "code",
   "execution_count": 20,
   "id": "bcfefd95-c66f-4122-a59b-d4a6ba5138c8",
   "metadata": {},
   "outputs": [
    {
     "name": "stdout",
     "output_type": "stream",
     "text": [
      "Standard deviation of the said Data Series: \n"
     ]
    },
    {
     "data": {
      "text/plain": [
       "2.522624895547565"
      ]
     },
     "execution_count": 20,
     "metadata": {},
     "output_type": "execute_result"
    }
   ],
   "source": [
    "print(\"Standard deviation of the said Data Series: \")\n",
    "ds.std()"
   ]
  },
  {
   "cell_type": "code",
   "execution_count": 21,
   "id": "126c0501-a0ea-403d-9c1a-fb1a5c7aae01",
   "metadata": {},
   "outputs": [
    {
     "name": "stdout",
     "output_type": "stream",
     "text": [
      "Items of sr1 not present in sr2:\n"
     ]
    },
    {
     "data": {
      "text/plain": [
       "0    1\n",
       "2    3\n",
       "4    5\n",
       "dtype: int64"
      ]
     },
     "execution_count": 21,
     "metadata": {},
     "output_type": "execute_result"
    }
   ],
   "source": [
    "sr1= pd.Series([1,2,3,4,5])\n",
    "sr2= pd.Series([2,4,6,8,10])\n",
    "print(\"Items of sr1 not present in sr2:\")\n",
    "res = sr1[~sr1.isin(sr2)]\n",
    "res"
   ]
  },
  {
   "cell_type": "code",
   "execution_count": 22,
   "id": "d78ba0dd-019b-4277-a186-7c8ff49840ef",
   "metadata": {},
   "outputs": [
    {
     "name": "stdout",
     "output_type": "stream",
     "text": [
      "Items of a given series not present in another given series: \n"
     ]
    },
    {
     "data": {
      "text/plain": [
       "0     1\n",
       "2     3\n",
       "4     5\n",
       "5     6\n",
       "6     8\n",
       "7    10\n",
       "dtype: int64"
      ]
     },
     "execution_count": 22,
     "metadata": {},
     "output_type": "execute_result"
    }
   ],
   "source": [
    "sr1= pd.Series([1,2,3,4,5])\n",
    "sr2= pd.Series([2,4,6,8,10])\n",
    "sr3= pd.Series(np.union1d(sr1,sr2))\n",
    "sr4= pd.Series(np.intersect1d(sr1,sr2))\n",
    "print(\"Items of a given series not present in another given series: \")\n",
    "sr_new= sr3[~sr3.isin(sr4)]\n",
    "sr_new"
   ]
  },
  {
   "cell_type": "code",
   "execution_count": 23,
   "id": "10e857e7-dc31-4316-893e-850a7387f661",
   "metadata": {},
   "outputs": [
    {
     "data": {
      "text/plain": [
       "array([ 9,  4,  8, 16, 17, 11,  3,  3,  3, 15])"
      ]
     },
     "execution_count": 23,
     "metadata": {},
     "output_type": "execute_result"
    }
   ],
   "source": [
    "np.random.seed(100)\n",
    "no = np.random.randint(1,21,10)\n",
    "no\n"
   ]
  },
  {
   "cell_type": "code",
   "execution_count": 24,
   "id": "bc9131c9-7cd0-4388-a726-38be9ea366ff",
   "metadata": {},
   "outputs": [
    {
     "data": {
      "text/plain": [
       "array([ 3.  ,  3.25,  8.5 , 14.  , 17.  ])"
      ]
     },
     "execution_count": 24,
     "metadata": {},
     "output_type": "execute_result"
    }
   ],
   "source": [
    "result = np.percentile(no,q=[0,25,50,75,100])\n",
    "result"
   ]
  },
  {
   "cell_type": "code",
   "execution_count": 25,
   "id": "d9d8bafa-88ff-4962-b544-dac2bee57922",
   "metadata": {},
   "outputs": [
    {
     "data": {
      "text/plain": [
       "27    2\n",
       "36    2\n",
       "4     2\n",
       "49    2\n",
       "34    1\n",
       "3     1\n",
       "19    1\n",
       "13    1\n",
       "1     1\n",
       "31    1\n",
       "44    1\n",
       "22    1\n",
       "2     1\n",
       "29    1\n",
       "9     1\n",
       "16    1\n",
       "43    1\n",
       "15    1\n",
       "24    1\n",
       "48    1\n",
       "7     1\n",
       "Name: count, dtype: int64"
      ]
     },
     "execution_count": 25,
     "metadata": {},
     "output_type": "execute_result"
    }
   ],
   "source": [
    "ser = np.random.randint(0,50,[25])\n",
    "ser = pd.Series(ser)\n",
    "ser.value_counts()"
   ]
  },
  {
   "cell_type": "code",
   "execution_count": 26,
   "id": "5036fc13-558f-4493-b0ce-8ec04247e6a0",
   "metadata": {},
   "outputs": [
    {
     "name": "stderr",
     "output_type": "stream",
     "text": [
      "C:\\Users\\dai.STUDENTSDC\\AppData\\Local\\Temp\\ipykernel_15220\\1076278635.py:1: FutureWarning: Setting an item of incompatible dtype is deprecated and will raise an error in a future version of pandas. Value 'Other' has dtype incompatible with int32, please explicitly cast to a compatible dtype first.\n",
      "  result = ser[~ser.isin(ser.value_counts().index[:1])] = 'Other'\n"
     ]
    },
    {
     "data": {
      "text/plain": [
       "'Other'"
      ]
     },
     "execution_count": 26,
     "metadata": {},
     "output_type": "execute_result"
    }
   ],
   "source": [
    "result = ser[~ser.isin(ser.value_counts().index[:1])] = 'Other'\n",
    "result"
   ]
  },
  {
   "cell_type": "code",
   "execution_count": 27,
   "id": "d47fe328-875b-4a3c-b4b5-a6b6136bb3c8",
   "metadata": {},
   "outputs": [
    {
     "data": {
      "text/plain": [
       "7     30\n",
       "13    30\n",
       "17    45\n",
       "21     0\n",
       "23    10\n",
       "dtype: int32"
      ]
     },
     "execution_count": 27,
     "metadata": {},
     "output_type": "execute_result"
    }
   ],
   "source": [
    "ser = np.random.randint(0,50,[25])\n",
    "ser = pd.Series(ser)\n",
    "result = ser[ser%5==0]\n",
    "result"
   ]
  },
  {
   "cell_type": "code",
   "execution_count": 28,
   "id": "a3398056-279c-4f68-8b00-6ff4ea329c35",
   "metadata": {},
   "outputs": [
    {
     "data": {
      "text/plain": [
       "0      8\n",
       "1     13\n",
       "2     42\n",
       "3     30\n",
       "4     17\n",
       "5      4\n",
       "6     40\n",
       "7     27\n",
       "8     27\n",
       "9     19\n",
       "10    14\n",
       "11     0\n",
       "12    13\n",
       "13    12\n",
       "14    42\n",
       "15     3\n",
       "16     6\n",
       "17     3\n",
       "18    20\n",
       "19    15\n",
       "20    10\n",
       "21    23\n",
       "22    47\n",
       "23     3\n",
       "24    41\n",
       "dtype: int32"
      ]
     },
     "execution_count": 28,
     "metadata": {},
     "output_type": "execute_result"
    }
   ],
   "source": [
    "ser = np.random.randint(0,50,[25])\n",
    "ser = pd.Series(ser)\n",
    "ser"
   ]
  },
  {
   "cell_type": "code",
   "execution_count": 29,
   "id": "3a6ae1da-ab32-4da8-b9e5-fee59f8941ab",
   "metadata": {},
   "outputs": [
    {
     "data": {
      "text/plain": [
       "15    3\n",
       "dtype: int32"
      ]
     },
     "execution_count": 29,
     "metadata": {},
     "output_type": "execute_result"
    }
   ],
   "source": [
    "result = ser.take([15])\n",
    "result"
   ]
  },
  {
   "cell_type": "code",
   "execution_count": 30,
   "id": "62dae6e0-13d7-48a6-a8b9-fb8254cfdae2",
   "metadata": {},
   "outputs": [
    {
     "data": {
      "text/plain": [
       "Index([1, 2, 3, 4, 5, 6, 7, 8, 9, 10], dtype='int64')"
      ]
     },
     "execution_count": 30,
     "metadata": {},
     "output_type": "execute_result"
    }
   ],
   "source": [
    "s1 =  pd.Series([1,2,3,4,5,6,7,8,9,10])\n",
    "s2 = pd.Series([1,3,5,7,10])\n",
    "index = pd.Index(s1)\n",
    "index"
   ]
  },
  {
   "cell_type": "code",
   "execution_count": 31,
   "id": "73a644c7-9796-467d-a497-c385d9d18f1c",
   "metadata": {},
   "outputs": [
    {
     "name": "stdout",
     "output_type": "stream",
     "text": [
      "0\n",
      "2\n",
      "4\n",
      "6\n",
      "9\n"
     ]
    }
   ],
   "source": [
    "for i in s2:\n",
    "    print(index.get_loc(i))"
   ]
  },
  {
   "cell_type": "code",
   "execution_count": 32,
   "id": "1565718d-751a-49fe-be03-814b1ee22b1f",
   "metadata": {},
   "outputs": [
    {
     "data": {
      "text/plain": [
       "0       PhP\n",
       "1    PythoN\n",
       "2      JavA\n",
       "3        C#\n",
       "dtype: object"
      ]
     },
     "execution_count": 32,
     "metadata": {},
     "output_type": "execute_result"
    }
   ],
   "source": [
    "series = pd.Series(['php', 'python', 'java', 'c#'])\n",
    "result = series.map(lambda x : x[0].upper() + x[1:-1] + x[-1].upper())\n",
    "result"
   ]
  },
  {
   "cell_type": "code",
   "execution_count": 33,
   "id": "8008d052-29c8-4088-94ed-57220cd89894",
   "metadata": {},
   "outputs": [
    {
     "data": {
      "text/plain": [
       "0     1\n",
       "1     3\n",
       "2     5\n",
       "3     8\n",
       "4    10\n",
       "5    11\n",
       "6    15\n",
       "dtype: int64"
      ]
     },
     "execution_count": 33,
     "metadata": {},
     "output_type": "execute_result"
    }
   ],
   "source": [
    "ser = pd.Series([1,3,5,8,10,11,15])\n",
    "ser"
   ]
  },
  {
   "cell_type": "code",
   "execution_count": 34,
   "id": "e9425862-a4d9-4b17-9149-9435f2a1ee4d",
   "metadata": {},
   "outputs": [
    {
     "data": {
      "text/plain": [
       "[1, 3, 5, 8, 10, 11, 15]"
      ]
     },
     "execution_count": 34,
     "metadata": {},
     "output_type": "execute_result"
    }
   ],
   "source": [
    "ser = ser.to_list()\n",
    "ser"
   ]
  },
  {
   "cell_type": "code",
   "execution_count": 35,
   "id": "41838b3a-85b2-4c27-8a94-72d66684ddb4",
   "metadata": {},
   "outputs": [
    {
     "name": "stdout",
     "output_type": "stream",
     "text": [
      "-2\n",
      "-2\n",
      "-3\n",
      "-2\n",
      "-1\n"
     ]
    }
   ],
   "source": [
    "for i in range(len(ser)-2):\n",
    "    print(ser[i]-ser[i+1])"
   ]
  },
  {
   "cell_type": "code",
   "execution_count": 36,
   "id": "c9e35432-3a7b-47b4-a67a-3c3e855f71df",
   "metadata": {},
   "outputs": [
    {
     "data": {
      "text/plain": [
       "0         01 Jan 2015\n",
       "1          10-02-2016\n",
       "2            20180307\n",
       "3          2014/05/06\n",
       "4          2016-04-12\n",
       "5    2019-04-06T11:20\n",
       "dtype: object"
      ]
     },
     "execution_count": 36,
     "metadata": {},
     "output_type": "execute_result"
    }
   ],
   "source": [
    "date_series = pd.Series(['01 Jan 2015', '10-02-2016', '20180307', '2014/05/06', '2016-04-12', '2019-04-06T11:20'])\n",
    "date_series\n"
   ]
  },
  {
   "cell_type": "code",
   "execution_count": 37,
   "id": "01b302b2-f269-4d3c-9216-b85fe1f1f659",
   "metadata": {},
   "outputs": [
    {
     "data": {
      "text/plain": [
       "0         01 Jan 2015\n",
       "1          10-02-2016\n",
       "2            20180307\n",
       "3          2014/05/06\n",
       "4          2016-04-12\n",
       "5    2019-04-06T11:20\n",
       "dtype: object"
      ]
     },
     "execution_count": 37,
     "metadata": {},
     "output_type": "execute_result"
    }
   ],
   "source": [
    "date_series = pd.Series(['01 Jan 2015', '10-02-2016', '20180307', '2014/05/06', '2016-04-12', '2019-04-06T11:20'])\n",
    "date_series"
   ]
  },
  {
   "cell_type": "code",
   "execution_count": 38,
   "id": "eb86b65b-feac-4a18-bd9c-d23e27c55590",
   "metadata": {},
   "outputs": [],
   "source": [
    "date_series = pd.to_datetime(date_series, format = 'mixed')"
   ]
  },
  {
   "cell_type": "code",
   "execution_count": 39,
   "id": "016823db-b0b5-4e14-ae24-46ca6c5bd0e4",
   "metadata": {},
   "outputs": [
    {
     "data": {
      "text/plain": [
       "0   2015-01-01 00:00:00\n",
       "1   2016-10-02 00:00:00\n",
       "2   2018-03-07 00:00:00\n",
       "3   2014-05-06 00:00:00\n",
       "4   2016-04-12 00:00:00\n",
       "5   2019-04-06 11:20:00\n",
       "dtype: datetime64[ns]"
      ]
     },
     "execution_count": 39,
     "metadata": {},
     "output_type": "execute_result"
    }
   ],
   "source": [
    "date_series"
   ]
  },
  {
   "cell_type": "code",
   "execution_count": 40,
   "id": "949e2e97-65c5-4998-9d04-3f27b01fe5b3",
   "metadata": {},
   "outputs": [
    {
     "data": {
      "text/plain": [
       "0     1\n",
       "1     2\n",
       "2     7\n",
       "3     6\n",
       "4    12\n",
       "5     6\n",
       "dtype: int32"
      ]
     },
     "execution_count": 40,
     "metadata": {},
     "output_type": "execute_result"
    }
   ],
   "source": [
    "date_series.dt.day"
   ]
  },
  {
   "cell_type": "code",
   "execution_count": 41,
   "id": "7163c1b9-960d-412a-a036-81707cd07874",
   "metadata": {},
   "outputs": [
    {
     "data": {
      "text/plain": [
       "0     1\n",
       "1    10\n",
       "2     3\n",
       "3     5\n",
       "4     4\n",
       "5     4\n",
       "dtype: int32"
      ]
     },
     "execution_count": 41,
     "metadata": {},
     "output_type": "execute_result"
    }
   ],
   "source": [
    "date_series.dt.month"
   ]
  },
  {
   "cell_type": "code",
   "execution_count": 42,
   "id": "dd566716-a333-487e-b375-a2e2cfbacf7b",
   "metadata": {},
   "outputs": [
    {
     "data": {
      "text/plain": [
       "0    2015\n",
       "1    2016\n",
       "2    2018\n",
       "3    2014\n",
       "4    2016\n",
       "5    2019\n",
       "dtype: int32"
      ]
     },
     "execution_count": 42,
     "metadata": {},
     "output_type": "execute_result"
    }
   ],
   "source": [
    "date_series.dt.year"
   ]
  },
  {
   "cell_type": "code",
   "execution_count": 43,
   "id": "c7550642-66a9-4e8b-89c2-0d0af355c83a",
   "metadata": {},
   "outputs": [
    {
     "data": {
      "text/plain": [
       "0   2015-01-11\n",
       "1   2016-02-11\n",
       "2   2017-03-11\n",
       "3   2018-04-11\n",
       "4   2019-05-11\n",
       "dtype: datetime64[ns]"
      ]
     },
     "execution_count": 43,
     "metadata": {},
     "output_type": "execute_result"
    }
   ],
   "source": [
    "from dateutil.parser import parse\n",
    "date_series = pd.Series(['Jan 2015', 'Feb 2016', 'Mar 2017', 'Apr 2018', 'May 2019'])\n",
    "date_series\n",
    "result = \"11 \" + date_series\n",
    "result = pd.to_datetime(result)\n",
    "result\n",
    "\n"
   ]
  },
  {
   "cell_type": "code",
   "execution_count": 44,
   "id": "a3ab6911-9185-4c78-9f24-7dd5b90b41b5",
   "metadata": {},
   "outputs": [
    {
     "data": {
      "text/plain": [
       "1     Green\n",
       "2    Orange\n",
       "4    Yellow\n",
       "5     White\n",
       "dtype: object"
      ]
     },
     "execution_count": 44,
     "metadata": {},
     "output_type": "execute_result"
    }
   ],
   "source": [
    "ser = pd.Series(['Red','Green', 'Orange', 'Pink', 'Yellow', 'White'])\n",
    "filtered_words = ser[ser.str.contains(r'[aeiou].*[aeiou]', case=False)]\n",
    "filtered_words\n"
   ]
  },
  {
   "cell_type": "code",
   "execution_count": 45,
   "id": "301a455e-7347-4868-8d15-071dba4f17eb",
   "metadata": {},
   "outputs": [
    {
     "name": "stdout",
     "output_type": "stream",
     "text": [
      "Euclidean distance between two said series: \n"
     ]
    },
    {
     "data": {
      "text/plain": [
       "16.492422502470642"
      ]
     },
     "execution_count": 45,
     "metadata": {},
     "output_type": "execute_result"
    }
   ],
   "source": [
    "x = pd.Series([1, 2, 3, 4, 5, 6, 7, 8, 9, 10])\n",
    "y = pd.Series([11, 8, 7, 5, 6, 5, 3, 4, 7, 1])\n",
    "print(\"Euclidean distance between two said series: \")\n",
    "np.linalg.norm(x-y)"
   ]
  },
  {
   "cell_type": "code",
   "execution_count": 46,
   "id": "0f32ff7f-5554-4d7e-9f02-b3ffb1375cad",
   "metadata": {},
   "outputs": [
    {
     "name": "stdout",
     "output_type": "stream",
     "text": [
      "Positions of the values surrounded by smaller values on both sides:\n",
      "[1 4 8]\n"
     ]
    }
   ],
   "source": [
    "nums = pd.Series([1, 8, 7, 5, 6, 5, 3, 4, 7, 1])\n",
    "print(\"Positions of the values surrounded by smaller values on both sides:\")\n",
    "temp = np.diff(np.sign(np.diff(nums)))\n",
    "res = np.where(temp == -2)[0] + 1\n",
    "print(res)"
   ]
  },
  {
   "cell_type": "code",
   "execution_count": 48,
   "id": "1e4d1739-bc1b-4e86-b9ba-a64f90cda932",
   "metadata": {},
   "outputs": [
    {
     "name": "stdout",
     "output_type": "stream",
     "text": [
      "c    3\n",
      "     3\n",
      "d    3\n",
      "a    2\n",
      "b    2\n",
      "e    2\n",
      "f    2\n",
      "i    1\n",
      "Name: count, dtype: int64\n",
      "abcidefiabcdefiicd\n"
     ]
    }
   ],
   "source": [
    "str1 = 'abc def abcdef icd'\n",
    "ser = pd.Series(list(str1))\n",
    "element_freq = ser.value_counts()\n",
    "print(element_freq)\n",
    "current_freq = element_freq.dropna().index[-1]\n",
    "result = \"\".join(ser.replace(' ', current_freq))\n",
    "print(result)"
   ]
  },
  {
   "cell_type": "code",
   "execution_count": 49,
   "id": "a4608ed1-765e-4fc2-b29b-b0935a7dc0ea",
   "metadata": {},
   "outputs": [
    {
     "name": "stdout",
     "output_type": "stream",
     "text": [
      "\n",
      "Autocorrelations of the said series:\n",
      "[0.4, 0.04, -0.31, -0.51, -0.58, -0.06, 0.35, 0.38, 0.66, 0.83]\n"
     ]
    }
   ],
   "source": [
    "num_series = pd.Series(np.arange(15) + np.random.normal(1, 10, 15))\n",
    "autocorrelations = [num_series.autocorr(i).round(2) for i in range(11)]\n",
    "print(\"\\nAutocorrelations of the said series:\")\n",
    "print(autocorrelations[1:])"
   ]
  },
  {
   "cell_type": "code",
   "execution_count": 50,
   "id": "5a4527fd-bae5-495a-a2e4-d5242dcd767c",
   "metadata": {},
   "outputs": [
    {
     "name": "stdout",
     "output_type": "stream",
     "text": [
      "All Sundays of 2019:\n",
      "0    2020-01-05\n",
      "1    2020-01-12\n",
      "2    2020-01-19\n",
      "3    2020-01-26\n",
      "4    2020-02-02\n",
      "5    2020-02-09\n",
      "6    2020-02-16\n",
      "7    2020-02-23\n",
      "8    2020-03-01\n",
      "9    2020-03-08\n",
      "10   2020-03-15\n",
      "11   2020-03-22\n",
      "12   2020-03-29\n",
      "13   2020-04-05\n",
      "14   2020-04-12\n",
      "15   2020-04-19\n",
      "16   2020-04-26\n",
      "17   2020-05-03\n",
      "18   2020-05-10\n",
      "19   2020-05-17\n",
      "20   2020-05-24\n",
      "21   2020-05-31\n",
      "22   2020-06-07\n",
      "23   2020-06-14\n",
      "24   2020-06-21\n",
      "25   2020-06-28\n",
      "26   2020-07-05\n",
      "27   2020-07-12\n",
      "28   2020-07-19\n",
      "29   2020-07-26\n",
      "30   2020-08-02\n",
      "31   2020-08-09\n",
      "32   2020-08-16\n",
      "33   2020-08-23\n",
      "34   2020-08-30\n",
      "35   2020-09-06\n",
      "36   2020-09-13\n",
      "37   2020-09-20\n",
      "38   2020-09-27\n",
      "39   2020-10-04\n",
      "40   2020-10-11\n",
      "41   2020-10-18\n",
      "42   2020-10-25\n",
      "43   2020-11-01\n",
      "44   2020-11-08\n",
      "45   2020-11-15\n",
      "46   2020-11-22\n",
      "47   2020-11-29\n",
      "48   2020-12-06\n",
      "49   2020-12-13\n",
      "50   2020-12-20\n",
      "51   2020-12-27\n",
      "dtype: datetime64[ns]\n"
     ]
    }
   ],
   "source": [
    "result = pd.Series(pd.date_range('2020-01-01', periods=52, freq='W-SUN'))\n",
    "print(\"All Sundays of 2019:\")\n",
    "print(result)"
   ]
  },
  {
   "cell_type": "code",
   "execution_count": 51,
   "id": "20ebbc30-de75-44f6-90ba-ee1325b2c420",
   "metadata": {},
   "outputs": [
    {
     "name": "stdout",
     "output_type": "stream",
     "text": [
      "  index  0\n",
      "0     A  0\n",
      "1     B  1\n",
      "2     C  2\n",
      "3     D  3\n",
      "4     E  4\n"
     ]
    }
   ],
   "source": [
    "char_list = list('ABCDEFGHIJKLMNOP')\n",
    "num = np.arange(8)\n",
    "num_dict = dict(zip(char_list, num))\n",
    "num_ser = pd.Series(num_dict)\n",
    "df = num_ser.to_frame().reset_index()\n",
    "print(df.head())"
   ]
  },
  {
   "cell_type": "code",
   "execution_count": 58,
   "id": "d8237fe2-a1b7-4e76-8b75-97003b774917",
   "metadata": {},
   "outputs": [
    {
     "name": "stdout",
     "output_type": "stream",
     "text": [
      "Vertical Stack:\n",
      "0    0\n",
      "1    1\n",
      "2    2\n",
      "3    3\n",
      "4    4\n",
      "5    5\n",
      "6    6\n",
      "7    7\n",
      "8    8\n",
      "9    9\n",
      "0    p\n",
      "1    q\n",
      "2    r\n",
      "3    s\n",
      "4    t\n",
      "5    u\n",
      "6    v\n",
      "7    w\n",
      "8    x\n",
      "9    y\n",
      "dtype: object\n",
      "\n",
      "Horizontal Stack:\n",
      "   0  1\n",
      "0  0  p\n",
      "1  1  q\n",
      "2  2  r\n",
      "3  3  s\n",
      "4  4  t\n",
      "5  5  u\n",
      "6  6  v\n",
      "7  7  w\n",
      "8  8  x\n",
      "9  9  y\n"
     ]
    }
   ],
   "source": [
    "series1 = pd.Series(range(10))\n",
    "series2 = pd.Series(list('pqrstuvwxy'))\n",
    "vertical_stack = pd.concat([series1, series2], axis=0)\n",
    "print(\"Vertical Stack:\")\n",
    "print(vertical_stack)\n",
    "\n",
    "# Stacking Horizontally\n",
    "horizontal_stack = pd.concat([series1, series2], axis=1)\n",
    "print(\"\\nHorizontal Stack:\")\n",
    "print(horizontal_stack)"
   ]
  },
  {
   "cell_type": "code",
   "execution_count": 55,
   "id": "e42dbf80-0b0e-469f-ad7f-12e548073b81",
   "metadata": {},
   "outputs": [
    {
     "name": "stdout",
     "output_type": "stream",
     "text": [
      "Original Series:\n",
      "0    1\n",
      "1    8\n",
      "2    7\n",
      "3    5\n",
      "4    6\n",
      "5    5\n",
      "6    3\n",
      "7    4\n",
      "8    7\n",
      "9    1\n",
      "dtype: int64\n",
      "0    1\n",
      "1    8\n",
      "2    7\n",
      "3    5\n",
      "4    6\n",
      "5    5\n",
      "6    3\n",
      "7    4\n",
      "8    7\n",
      "9    1\n",
      "dtype: int64\n",
      "Check 2 series are equal or not?\n",
      "0    True\n",
      "1    True\n",
      "2    True\n",
      "3    True\n",
      "4    True\n",
      "5    True\n",
      "6    True\n",
      "7    True\n",
      "8    True\n",
      "9    True\n",
      "dtype: bool\n"
     ]
    }
   ],
   "source": [
    "nums1 = pd.Series([1, 8, 7, 5, 6, 5, 3, 4, 7, 1])\n",
    "nums2 = pd.Series([1, 8, 7, 5, 6, 5, 3, 4, 7, 1])\n",
    "print(\"Original Series:\")\n",
    "print(nums1)\n",
    "print(nums2)\n",
    "print(\"Check 2 series are equal or not?\")\n",
    "print(nums1 == nums2)"
   ]
  },
  {
   "cell_type": "code",
   "execution_count": 56,
   "id": "54817f79-8807-462b-a374-c895f4b25a0a",
   "metadata": {},
   "outputs": [
    {
     "name": "stdout",
     "output_type": "stream",
     "text": [
      "Original Series:\n",
      "0     1\n",
      "1     3\n",
      "2     7\n",
      "3    12\n",
      "4    88\n",
      "5    23\n",
      "6     3\n",
      "7     1\n",
      "8     9\n",
      "9     0\n",
      "dtype: int64\n",
      "Index of the first occurrence of the smallest and largest value of the said series:\n",
      "9\n",
      "4\n"
     ]
    }
   ],
   "source": [
    "nums = pd.Series([1, 3, 7, 12, 88, 23, 3, 1, 9, 0])\n",
    "print(\"Original Series:\")\n",
    "print(nums)\n",
    "print(\"Index of the first occurrence of the smallest and largest value of the said series:\")\n",
    "print(nums.idxmin())\n",
    "print(nums.idxmax())\n"
   ]
  },
  {
   "cell_type": "code",
   "execution_count": 57,
   "id": "59b60376-f96c-4846-b45d-91780a2de4cf",
   "metadata": {},
   "outputs": [
    {
     "name": "stdout",
     "output_type": "stream",
     "text": [
      "Original DataFrame:\n",
      "      W     X   Y   Z\n",
      "0  68.0  78.0  84  86\n",
      "1  75.0  75.0  94  97\n",
      "2  86.0   NaN  89  96\n",
      "3  80.0  80.0  86  72\n",
      "4   NaN  86.0  86  83\n",
      "\n",
      "Original Series:\n",
      "0    68.0\n",
      "1    75.0\n",
      "2    86.0\n",
      "3    80.0\n",
      "4     NaN\n",
      "dtype: float64\n",
      "\n",
      "Check for inequality of the said series & dataframe:\n",
      "       W      X     Y     Z\n",
      "0  False   True  True  True\n",
      "1  False  False  True  True\n",
      "2  False   True  True  True\n",
      "3  False  False  True  True\n",
      "4   True   True  True  True\n"
     ]
    }
   ],
   "source": [
    "df_data = pd.DataFrame({'W':[68,75,86,80,None],'X':[78,75,None,80,86], 'Y':[84,94,89,86,86],'Z':[86,97,96,72,83]});\n",
    "sr_data = pd.Series([68, 75, 86, 80, None]) \n",
    "print(\"Original DataFrame:\")\n",
    "print(df_data)\n",
    "print(\"\\nOriginal Series:\")\n",
    "print(sr_data)\n",
    "print(\"\\nCheck for inequality of the said series & dataframe:\")\n",
    "print(df_data.ne(sr_data, axis = 0))\n"
   ]
  },
  {
   "cell_type": "code",
   "execution_count": null,
   "id": "1ef75101-1f23-4614-977c-504d16cb4efc",
   "metadata": {},
   "outputs": [],
   "source": []
  }
 ],
 "metadata": {
  "kernelspec": {
   "display_name": "Python 3 (ipykernel)",
   "language": "python",
   "name": "python3"
  },
  "language_info": {
   "codemirror_mode": {
    "name": "ipython",
    "version": 3
   },
   "file_extension": ".py",
   "mimetype": "text/x-python",
   "name": "python",
   "nbconvert_exporter": "python",
   "pygments_lexer": "ipython3",
   "version": "3.12.4"
  }
 },
 "nbformat": 4,
 "nbformat_minor": 5
}
