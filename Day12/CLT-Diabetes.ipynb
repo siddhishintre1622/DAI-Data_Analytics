{
 "cells": [
  {
   "cell_type": "code",
   "execution_count": 1,
   "id": "afe26e4b-eac4-44ec-9d7b-c60bd008fadd",
   "metadata": {},
   "outputs": [],
   "source": [
    "import pandas as pd\n",
    "import numpy as np\n",
    "import matplotlib.pyplot as plt\n",
    "import scipy.stats as stats\n",
    "from scipy.stats import shapiro\n"
   ]
  },
  {
   "cell_type": "code",
   "execution_count": 2,
   "id": "5af8a605-721b-434f-8205-513f4f2b20b5",
   "metadata": {},
   "outputs": [],
   "source": [
    "df = pd.read_csv('diabetes.csv')"
   ]
  },
  {
   "cell_type": "code",
   "execution_count": 3,
   "id": "6fc87591-e18e-46a1-abbc-3fcdab332811",
   "metadata": {},
   "outputs": [
    {
     "data": {
      "text/html": [
       "<div>\n",
       "<style scoped>\n",
       "    .dataframe tbody tr th:only-of-type {\n",
       "        vertical-align: middle;\n",
       "    }\n",
       "\n",
       "    .dataframe tbody tr th {\n",
       "        vertical-align: top;\n",
       "    }\n",
       "\n",
       "    .dataframe thead th {\n",
       "        text-align: right;\n",
       "    }\n",
       "</style>\n",
       "<table border=\"1\" class=\"dataframe\">\n",
       "  <thead>\n",
       "    <tr style=\"text-align: right;\">\n",
       "      <th></th>\n",
       "      <th>Pregnancies</th>\n",
       "      <th>Glucose</th>\n",
       "      <th>BloodPressure</th>\n",
       "      <th>SkinThickness</th>\n",
       "      <th>Insulin</th>\n",
       "      <th>BMI</th>\n",
       "      <th>DiabetesPedigreeFunction</th>\n",
       "      <th>Age</th>\n",
       "      <th>Outcome</th>\n",
       "    </tr>\n",
       "  </thead>\n",
       "  <tbody>\n",
       "    <tr>\n",
       "      <th>0</th>\n",
       "      <td>6</td>\n",
       "      <td>148</td>\n",
       "      <td>72</td>\n",
       "      <td>35</td>\n",
       "      <td>0</td>\n",
       "      <td>33.6</td>\n",
       "      <td>0.627</td>\n",
       "      <td>50</td>\n",
       "      <td>1</td>\n",
       "    </tr>\n",
       "    <tr>\n",
       "      <th>1</th>\n",
       "      <td>1</td>\n",
       "      <td>85</td>\n",
       "      <td>66</td>\n",
       "      <td>29</td>\n",
       "      <td>0</td>\n",
       "      <td>26.6</td>\n",
       "      <td>0.351</td>\n",
       "      <td>31</td>\n",
       "      <td>0</td>\n",
       "    </tr>\n",
       "    <tr>\n",
       "      <th>2</th>\n",
       "      <td>8</td>\n",
       "      <td>183</td>\n",
       "      <td>64</td>\n",
       "      <td>0</td>\n",
       "      <td>0</td>\n",
       "      <td>23.3</td>\n",
       "      <td>0.672</td>\n",
       "      <td>32</td>\n",
       "      <td>1</td>\n",
       "    </tr>\n",
       "    <tr>\n",
       "      <th>3</th>\n",
       "      <td>1</td>\n",
       "      <td>89</td>\n",
       "      <td>66</td>\n",
       "      <td>23</td>\n",
       "      <td>94</td>\n",
       "      <td>28.1</td>\n",
       "      <td>0.167</td>\n",
       "      <td>21</td>\n",
       "      <td>0</td>\n",
       "    </tr>\n",
       "    <tr>\n",
       "      <th>4</th>\n",
       "      <td>0</td>\n",
       "      <td>137</td>\n",
       "      <td>40</td>\n",
       "      <td>35</td>\n",
       "      <td>168</td>\n",
       "      <td>43.1</td>\n",
       "      <td>2.288</td>\n",
       "      <td>33</td>\n",
       "      <td>1</td>\n",
       "    </tr>\n",
       "  </tbody>\n",
       "</table>\n",
       "</div>"
      ],
      "text/plain": [
       "   Pregnancies  Glucose  BloodPressure  SkinThickness  Insulin   BMI  \\\n",
       "0            6      148             72             35        0  33.6   \n",
       "1            1       85             66             29        0  26.6   \n",
       "2            8      183             64              0        0  23.3   \n",
       "3            1       89             66             23       94  28.1   \n",
       "4            0      137             40             35      168  43.1   \n",
       "\n",
       "   DiabetesPedigreeFunction  Age  Outcome  \n",
       "0                     0.627   50        1  \n",
       "1                     0.351   31        0  \n",
       "2                     0.672   32        1  \n",
       "3                     0.167   21        0  \n",
       "4                     2.288   33        1  "
      ]
     },
     "execution_count": 3,
     "metadata": {},
     "output_type": "execute_result"
    }
   ],
   "source": [
    "df.head()"
   ]
  },
  {
   "cell_type": "code",
   "execution_count": 4,
   "id": "da509417-2e24-4a3a-be5e-ecb33707827d",
   "metadata": {},
   "outputs": [],
   "source": [
    "shapiro_test = stats.shapiro(df['Glucose'])\n"
   ]
  },
  {
   "cell_type": "code",
   "execution_count": 5,
   "id": "cdd4c8c5-b0f5-4b9f-b449-360b8c5d6baa",
   "metadata": {},
   "outputs": [
    {
     "name": "stdout",
     "output_type": "stream",
     "text": [
      "Shapiro wilk p value :  1.9863474999979633e-11\n"
     ]
    }
   ],
   "source": [
    "print(\"Shapiro wilk p value : \" ,shapiro_test.pvalue)"
   ]
  },
  {
   "cell_type": "code",
   "execution_count": 6,
   "id": "e5cc64ed-fbd8-4458-95ed-1defba483718",
   "metadata": {},
   "outputs": [
    {
     "name": "stdout",
     "output_type": "stream",
     "text": [
      "No normal distribution\n"
     ]
    }
   ],
   "source": [
    "if shapiro_test.pvalue <0.05:\n",
    "    print(\"No normal distribution\")\n",
    "else:\n",
    "    print(\"Data may be normally distributed but the qq plot can provide further insights\")"
   ]
  },
  {
   "cell_type": "code",
   "execution_count": 8,
   "id": "eba43ac6-cfde-4c1a-b06a-7cf8f579f636",
   "metadata": {},
   "outputs": [
    {
     "data": {
      "image/png": "[encoded data removed]",
      "text/plain": [
       "<Figure size 640x480 with 1 Axes>"
      ]
     },
     "metadata": {},
     "output_type": "display_data"
    }
   ],
   "source": [
    "stats.probplot(df['Glucose'],dist='norm',plot=plt)\n",
    "plt.title(\"Q-Q plot of sample means\")\n",
    "plt.show()"
   ]
  },
  {
   "cell_type": "code",
   "execution_count": 9,
   "id": "b5248fb3-16d4-4760-8a70-5ecc3f8e9f6a",
   "metadata": {},
   "outputs": [],
   "source": [
    "sample_means=[]\n",
    "n_samples = 100\n",
    "sample_size = 30"
   ]
  },
  {
   "cell_type": "code",
   "execution_count": 28,
   "id": "f9750aa4-3b14-4edb-b068-850172d83bbb",
   "metadata": {},
   "outputs": [],
   "source": [
    "for i in range(n_samples):\n",
    "    sample = df['Glucose'].sample(n=sample_size,replace=True)\n",
    "    sample_means.append(sample.mean())"
   ]
  },
  {
   "cell_type": "code",
   "execution_count": 31,
   "id": "678df54f-4959-48f4-bca8-75d90ee00316",
   "metadata": {},
   "outputs": [
    {
     "data": {
      "text/plain": [
       "Text(0, 0.5, 'Frequency')"
      ]
     },
     "execution_count": 31,
     "metadata": {},
     "output_type": "execute_result"
    },
    {
     "data": {
      "image/png": "[encoded data removed]",
      "text/plain": [
       "<Figure size 640x480 with 1 Axes>"
      ]
     },
     "metadata": {},
     "output_type": "display_data"
    }
   ],
   "source": [
    "plt.hist(sample_means,bins=30,edgecolor='k',alpha=0.7)\n",
    "plt.title(\"Distribution of sample means (n=30)\")\n",
    "plt.xlabel(\"Sample mean\")\n",
    "plt.ylabel('Frequency')"
   ]
  },
  {
   "cell_type": "code",
   "execution_count": null,
   "id": "b772ec63-c1d8-444c-8cc1-9d5951314398",
   "metadata": {},
   "outputs": [],
   "source": [
    "stats.probplot(sample_means,dist='norm',plot=plt)\n",
    "plt.title(\"Q Q plot of sample means\")"
   ]
  },
  {
   "cell_type": "code",
   "execution_count": 13,
   "id": "cae6e22d-689b-4ee3-b241-136bb31fbcd4",
   "metadata": {},
   "outputs": [
    {
     "name": "stdout",
     "output_type": "stream",
     "text": [
      "shapiro wilk p value : 0.2298744657825042\n"
     ]
    }
   ],
   "source": [
    "shapiro_test = stats.shapiro(sample_means)\n",
    "print(\"shapiro wilk p value :\",shapiro_test.pvalue)"
   ]
  },
  {
   "cell_type": "code",
   "execution_count": 14,
   "id": "93cae35f-8ee1-46de-ae72-d4f358ec07c9",
   "metadata": {},
   "outputs": [
    {
     "name": "stdout",
     "output_type": "stream",
     "text": [
      "Data may be normally distributed but the qq plot can provide further insights\n"
     ]
    }
   ],
   "source": [
    "if shapiro_test.pvalue <0.05:\n",
    "    print(\"No normal distribution\")\n",
    "else:\n",
    "    print(\"Data may be normally distributed but the qq plot can provide further insights\")"
   ]
  },
  {
   "cell_type": "code",
   "execution_count": null,
   "id": "feeb483c-4ad1-4cc6-8b4d-345edde833d4",
   "metadata": {},
   "outputs": [],
   "source": []
  }
 ],
 "metadata": {
  "kernelspec": {
   "display_name": "Python 3 (ipykernel)",
   "language": "python",
   "name": "python3"
  },
  "language_info": {
   "codemirror_mode": {
    "name": "ipython",
    "version": 3
   },
   "file_extension": ".py",
   "mimetype": "text/x-python",
   "name": "python",
   "nbconvert_exporter": "python",
   "pygments_lexer": "ipython3",
   "version": "3.12.4"
  }
 },
 "nbformat": 4,
 "nbformat_minor": 5
}
